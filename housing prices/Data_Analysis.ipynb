{
  "nbformat": 4,
  "nbformat_minor": 0,
  "metadata": {
    "colab": {
      "name": "Data Analysis",
      "provenance": [],
      "collapsed_sections": []
    },
    "kernelspec": {
      "name": "python3",
      "display_name": "Python 3"
    }
  },
  "cells": [
    {
      "cell_type": "markdown",
      "metadata": {
        "id": "BJ8hOd8BrEwu",
        "colab_type": "text"
      },
      "source": [
        "# **Assignment 1**\n",
        "\n",
        "> In this assignment, we are given a dataset consisting of houses' sale and prices and their various features and we are supposed to analyse the data and build a model for price prediction. "
      ]
    },
    {
      "cell_type": "markdown",
      "metadata": {
        "id": "fkmrVXptyCY3",
        "colab_type": "text"
      },
      "source": [
        "#### **Importing libraries**"
      ]
    },
    {
      "cell_type": "code",
      "metadata": {
        "id": "jbbcwU0qq8li",
        "colab_type": "code",
        "colab": {}
      },
      "source": [
        "import numpy as np\n",
        "import matplotlib.pyplot as plt\n",
        "import pandas as pd"
      ],
      "execution_count": null,
      "outputs": []
    },
    {
      "cell_type": "markdown",
      "metadata": {
        "id": "HhI1MEpByWqw",
        "colab_type": "text"
      },
      "source": [
        "#### **Reading the dataset**\n",
        "<p>\n",
        "We use <code>pandas.read_csv()</code> function to read the csv file. In the bracket, we put the file path along with a quotation mark. The file path can be either an URL or your local file address."
      ]
    },
    {
      "cell_type": "code",
      "metadata": {
        "id": "UzCHSaTEs_e4",
        "colab_type": "code",
        "colab": {
          "base_uri": "https://localhost:8080/",
          "height": 606
        },
        "outputId": "2b264453-8a96-403f-e2c1-fb3257108bab"
      },
      "source": [
        "data = pd.read_csv('House_prediction.csv')\n",
        "print('The first 5 rows are:')\n",
        "data"
      ],
      "execution_count": null,
      "outputs": [
        {
          "output_type": "stream",
          "text": [
            "The first 5 rows are:\n"
          ],
          "name": "stdout"
        },
        {
          "output_type": "execute_result",
          "data": {
            "text/html": [
              "<div>\n",
              "<style scoped>\n",
              "    .dataframe tbody tr th:only-of-type {\n",
              "        vertical-align: middle;\n",
              "    }\n",
              "\n",
              "    .dataframe tbody tr th {\n",
              "        vertical-align: top;\n",
              "    }\n",
              "\n",
              "    .dataframe thead th {\n",
              "        text-align: right;\n",
              "    }\n",
              "</style>\n",
              "<table border=\"1\" class=\"dataframe\">\n",
              "  <thead>\n",
              "    <tr style=\"text-align: right;\">\n",
              "      <th></th>\n",
              "      <th>city</th>\n",
              "      <th>area</th>\n",
              "      <th>rooms</th>\n",
              "      <th>bathroom</th>\n",
              "      <th>parking spaces</th>\n",
              "      <th>floor</th>\n",
              "      <th>animal</th>\n",
              "      <th>furniture</th>\n",
              "      <th>hoa (R$)</th>\n",
              "      <th>rent amount (R$)</th>\n",
              "      <th>property tax (R$)</th>\n",
              "      <th>fire insurance (R$)</th>\n",
              "      <th>total (R$)</th>\n",
              "    </tr>\n",
              "  </thead>\n",
              "  <tbody>\n",
              "    <tr>\n",
              "      <th>0</th>\n",
              "      <td>São Paulo</td>\n",
              "      <td>70</td>\n",
              "      <td>2</td>\n",
              "      <td>1</td>\n",
              "      <td>1</td>\n",
              "      <td>7</td>\n",
              "      <td>acept</td>\n",
              "      <td>furnished</td>\n",
              "      <td>2065</td>\n",
              "      <td>3300</td>\n",
              "      <td>211</td>\n",
              "      <td>42</td>\n",
              "      <td>5618</td>\n",
              "    </tr>\n",
              "    <tr>\n",
              "      <th>1</th>\n",
              "      <td>São Paulo</td>\n",
              "      <td>320</td>\n",
              "      <td>4</td>\n",
              "      <td>4</td>\n",
              "      <td>0</td>\n",
              "      <td>20</td>\n",
              "      <td>acept</td>\n",
              "      <td>not furnished</td>\n",
              "      <td>1200</td>\n",
              "      <td>4960</td>\n",
              "      <td>1750</td>\n",
              "      <td>63</td>\n",
              "      <td>7973</td>\n",
              "    </tr>\n",
              "    <tr>\n",
              "      <th>2</th>\n",
              "      <td>Porto Alegre</td>\n",
              "      <td>80</td>\n",
              "      <td>1</td>\n",
              "      <td>1</td>\n",
              "      <td>1</td>\n",
              "      <td>6</td>\n",
              "      <td>acept</td>\n",
              "      <td>not furnished</td>\n",
              "      <td>1000</td>\n",
              "      <td>2800</td>\n",
              "      <td>0</td>\n",
              "      <td>41</td>\n",
              "      <td>3841</td>\n",
              "    </tr>\n",
              "    <tr>\n",
              "      <th>3</th>\n",
              "      <td>Porto Alegre</td>\n",
              "      <td>51</td>\n",
              "      <td>2</td>\n",
              "      <td>1</td>\n",
              "      <td>0</td>\n",
              "      <td>2</td>\n",
              "      <td>acept</td>\n",
              "      <td>not furnished</td>\n",
              "      <td>270</td>\n",
              "      <td>1112</td>\n",
              "      <td>22</td>\n",
              "      <td>17</td>\n",
              "      <td>1421</td>\n",
              "    </tr>\n",
              "    <tr>\n",
              "      <th>4</th>\n",
              "      <td>São Paulo</td>\n",
              "      <td>25</td>\n",
              "      <td>1</td>\n",
              "      <td>1</td>\n",
              "      <td>0</td>\n",
              "      <td>1</td>\n",
              "      <td>not acept</td>\n",
              "      <td>not furnished</td>\n",
              "      <td>0</td>\n",
              "      <td>800</td>\n",
              "      <td>25</td>\n",
              "      <td>11</td>\n",
              "      <td>836</td>\n",
              "    </tr>\n",
              "    <tr>\n",
              "      <th>...</th>\n",
              "      <td>...</td>\n",
              "      <td>...</td>\n",
              "      <td>...</td>\n",
              "      <td>...</td>\n",
              "      <td>...</td>\n",
              "      <td>...</td>\n",
              "      <td>...</td>\n",
              "      <td>...</td>\n",
              "      <td>...</td>\n",
              "      <td>...</td>\n",
              "      <td>...</td>\n",
              "      <td>...</td>\n",
              "      <td>...</td>\n",
              "    </tr>\n",
              "    <tr>\n",
              "      <th>10687</th>\n",
              "      <td>Porto Alegre</td>\n",
              "      <td>63</td>\n",
              "      <td>2</td>\n",
              "      <td>1</td>\n",
              "      <td>1</td>\n",
              "      <td>5</td>\n",
              "      <td>not acept</td>\n",
              "      <td>furnished</td>\n",
              "      <td>402</td>\n",
              "      <td>1478</td>\n",
              "      <td>24</td>\n",
              "      <td>22</td>\n",
              "      <td>1926</td>\n",
              "    </tr>\n",
              "    <tr>\n",
              "      <th>10688</th>\n",
              "      <td>São Paulo</td>\n",
              "      <td>285</td>\n",
              "      <td>4</td>\n",
              "      <td>4</td>\n",
              "      <td>4</td>\n",
              "      <td>17</td>\n",
              "      <td>acept</td>\n",
              "      <td>not furnished</td>\n",
              "      <td>3100</td>\n",
              "      <td>15000</td>\n",
              "      <td>973</td>\n",
              "      <td>191</td>\n",
              "      <td>19260</td>\n",
              "    </tr>\n",
              "    <tr>\n",
              "      <th>10689</th>\n",
              "      <td>Rio de Janeiro</td>\n",
              "      <td>70</td>\n",
              "      <td>3</td>\n",
              "      <td>3</td>\n",
              "      <td>0</td>\n",
              "      <td>8</td>\n",
              "      <td>not acept</td>\n",
              "      <td>furnished</td>\n",
              "      <td>980</td>\n",
              "      <td>6000</td>\n",
              "      <td>332</td>\n",
              "      <td>78</td>\n",
              "      <td>7390</td>\n",
              "    </tr>\n",
              "    <tr>\n",
              "      <th>10690</th>\n",
              "      <td>Rio de Janeiro</td>\n",
              "      <td>120</td>\n",
              "      <td>2</td>\n",
              "      <td>2</td>\n",
              "      <td>2</td>\n",
              "      <td>8</td>\n",
              "      <td>acept</td>\n",
              "      <td>furnished</td>\n",
              "      <td>1585</td>\n",
              "      <td>12000</td>\n",
              "      <td>279</td>\n",
              "      <td>155</td>\n",
              "      <td>14020</td>\n",
              "    </tr>\n",
              "    <tr>\n",
              "      <th>10691</th>\n",
              "      <td>São Paulo</td>\n",
              "      <td>80</td>\n",
              "      <td>2</td>\n",
              "      <td>1</td>\n",
              "      <td>0</td>\n",
              "      <td>-</td>\n",
              "      <td>acept</td>\n",
              "      <td>not furnished</td>\n",
              "      <td>0</td>\n",
              "      <td>1400</td>\n",
              "      <td>165</td>\n",
              "      <td>22</td>\n",
              "      <td>1587</td>\n",
              "    </tr>\n",
              "  </tbody>\n",
              "</table>\n",
              "<p>10692 rows × 13 columns</p>\n",
              "</div>"
            ],
            "text/plain": [
              "                 city  area  ...  fire insurance (R$)  total (R$)\n",
              "0           São Paulo    70  ...                   42        5618\n",
              "1           São Paulo   320  ...                   63        7973\n",
              "2        Porto Alegre    80  ...                   41        3841\n",
              "3        Porto Alegre    51  ...                   17        1421\n",
              "4           São Paulo    25  ...                   11         836\n",
              "...               ...   ...  ...                  ...         ...\n",
              "10687    Porto Alegre    63  ...                   22        1926\n",
              "10688       São Paulo   285  ...                  191       19260\n",
              "10689  Rio de Janeiro    70  ...                   78        7390\n",
              "10690  Rio de Janeiro   120  ...                  155       14020\n",
              "10691       São Paulo    80  ...                   22        1587\n",
              "\n",
              "[10692 rows x 13 columns]"
            ]
          },
          "metadata": {
            "tags": []
          },
          "execution_count": 20
        }
      ]
    },
    {
      "cell_type": "code",
      "metadata": {
        "id": "kW7CAGHnz2y3",
        "colab_type": "code",
        "colab": {
          "base_uri": "https://localhost:8080/",
          "height": 221
        },
        "outputId": "8ef88ca7-de7b-4ee3-bf74-7d3af9bd09ba"
      },
      "source": [
        "print(\"The last 5 rows are:\")\n",
        "data.tail()"
      ],
      "execution_count": null,
      "outputs": [
        {
          "output_type": "stream",
          "text": [
            "The last 5 rows are:\n"
          ],
          "name": "stdout"
        },
        {
          "output_type": "execute_result",
          "data": {
            "text/html": [
              "<div>\n",
              "<style scoped>\n",
              "    .dataframe tbody tr th:only-of-type {\n",
              "        vertical-align: middle;\n",
              "    }\n",
              "\n",
              "    .dataframe tbody tr th {\n",
              "        vertical-align: top;\n",
              "    }\n",
              "\n",
              "    .dataframe thead th {\n",
              "        text-align: right;\n",
              "    }\n",
              "</style>\n",
              "<table border=\"1\" class=\"dataframe\">\n",
              "  <thead>\n",
              "    <tr style=\"text-align: right;\">\n",
              "      <th></th>\n",
              "      <th>Unnamed: 0</th>\n",
              "      <th>city</th>\n",
              "      <th>area</th>\n",
              "      <th>rooms</th>\n",
              "      <th>bathroom</th>\n",
              "      <th>parking spaces</th>\n",
              "      <th>floor</th>\n",
              "      <th>animal</th>\n",
              "      <th>furniture</th>\n",
              "      <th>hoa</th>\n",
              "      <th>rent amount</th>\n",
              "      <th>property tax</th>\n",
              "      <th>fire insurance</th>\n",
              "      <th>total</th>\n",
              "    </tr>\n",
              "  </thead>\n",
              "  <tbody>\n",
              "    <tr>\n",
              "      <th>6075</th>\n",
              "      <td>6075</td>\n",
              "      <td>1</td>\n",
              "      <td>50</td>\n",
              "      <td>2</td>\n",
              "      <td>1</td>\n",
              "      <td>1</td>\n",
              "      <td>2</td>\n",
              "      <td>acept</td>\n",
              "      <td>not furnished</td>\n",
              "      <td>R$420</td>\n",
              "      <td>R$1,150</td>\n",
              "      <td>R$0</td>\n",
              "      <td>R$15</td>\n",
              "      <td>R$1,585</td>\n",
              "    </tr>\n",
              "    <tr>\n",
              "      <th>6076</th>\n",
              "      <td>6076</td>\n",
              "      <td>1</td>\n",
              "      <td>84</td>\n",
              "      <td>2</td>\n",
              "      <td>2</td>\n",
              "      <td>1</td>\n",
              "      <td>16</td>\n",
              "      <td>not acept</td>\n",
              "      <td>furnished</td>\n",
              "      <td>R$768</td>\n",
              "      <td>R$2,900</td>\n",
              "      <td>R$63</td>\n",
              "      <td>R$37</td>\n",
              "      <td>R$3,768</td>\n",
              "    </tr>\n",
              "    <tr>\n",
              "      <th>6077</th>\n",
              "      <td>6077</td>\n",
              "      <td>0</td>\n",
              "      <td>48</td>\n",
              "      <td>1</td>\n",
              "      <td>1</td>\n",
              "      <td>0</td>\n",
              "      <td>13</td>\n",
              "      <td>acept</td>\n",
              "      <td>not furnished</td>\n",
              "      <td>R$250</td>\n",
              "      <td>R$950</td>\n",
              "      <td>R$42</td>\n",
              "      <td>R$13</td>\n",
              "      <td>R$1,255</td>\n",
              "    </tr>\n",
              "    <tr>\n",
              "      <th>6078</th>\n",
              "      <td>6078</td>\n",
              "      <td>1</td>\n",
              "      <td>160</td>\n",
              "      <td>3</td>\n",
              "      <td>2</td>\n",
              "      <td>2</td>\n",
              "      <td>-</td>\n",
              "      <td>not acept</td>\n",
              "      <td>not furnished</td>\n",
              "      <td>R$0</td>\n",
              "      <td>R$3,500</td>\n",
              "      <td>R$250</td>\n",
              "      <td>R$53</td>\n",
              "      <td>R$3,803</td>\n",
              "    </tr>\n",
              "    <tr>\n",
              "      <th>6079</th>\n",
              "      <td>6079</td>\n",
              "      <td>1</td>\n",
              "      <td>60</td>\n",
              "      <td>2</td>\n",
              "      <td>1</td>\n",
              "      <td>1</td>\n",
              "      <td>4</td>\n",
              "      <td>acept</td>\n",
              "      <td>furnished</td>\n",
              "      <td>R$489</td>\n",
              "      <td>R$1,900</td>\n",
              "      <td>R$0</td>\n",
              "      <td>R$25</td>\n",
              "      <td>R$2,414</td>\n",
              "    </tr>\n",
              "  </tbody>\n",
              "</table>\n",
              "</div>"
            ],
            "text/plain": [
              "      Unnamed: 0  city  area  ...  property tax  fire insurance    total\n",
              "6075        6075     1    50  ...           R$0            R$15  R$1,585\n",
              "6076        6076     1    84  ...          R$63            R$37  R$3,768\n",
              "6077        6077     0    48  ...          R$42            R$13  R$1,255\n",
              "6078        6078     1   160  ...         R$250            R$53  R$3,803\n",
              "6079        6079     1    60  ...           R$0            R$25  R$2,414\n",
              "\n",
              "[5 rows x 14 columns]"
            ]
          },
          "metadata": {
            "tags": []
          },
          "execution_count": 11
        }
      ]
    },
    {
      "cell_type": "markdown",
      "metadata": {
        "id": "zqFwbKL404m4",
        "colab_type": "text"
      },
      "source": [
        "We see that we have two datatypes i.e. int and object(in pandas strings are included in object datatype). "
      ]
    },
    {
      "cell_type": "markdown",
      "metadata": {
        "id": "DTY6aeS22FcA",
        "colab_type": "text"
      },
      "source": [
        "#### **Checking for missing values**\n",
        "> Next, for a better model we will check if there are any missing values in the data and see how to handle those if there exist any.\n"
      ]
    },
    {
      "cell_type": "code",
      "metadata": {
        "id": "9E1tWlbA0wz4",
        "colab_type": "code",
        "colab": {
          "base_uri": "https://localhost:8080/",
          "height": 918
        },
        "outputId": "72d8127e-fde0-4294-d11f-5a33299fe342"
      },
      "source": [
        "data.replace('-', np.nan, inplace=True)\n",
        "missing_data = data.notnull()\n",
        "for column in missing_data.columns.values.tolist():\n",
        "    print(column)\n",
        "    print (missing_data[column].value_counts())\n",
        "    print(\"\")    "
      ],
      "execution_count": null,
      "outputs": [
        {
          "output_type": "stream",
          "text": [
            "city\n",
            "True    10692\n",
            "Name: city, dtype: int64\n",
            "\n",
            "area\n",
            "True    10692\n",
            "Name: area, dtype: int64\n",
            "\n",
            "rooms\n",
            "True    10692\n",
            "Name: rooms, dtype: int64\n",
            "\n",
            "bathroom\n",
            "True    10692\n",
            "Name: bathroom, dtype: int64\n",
            "\n",
            "parking spaces\n",
            "True    10692\n",
            "Name: parking spaces, dtype: int64\n",
            "\n",
            "floor\n",
            "True     8231\n",
            "False    2461\n",
            "Name: floor, dtype: int64\n",
            "\n",
            "animal\n",
            "True    10692\n",
            "Name: animal, dtype: int64\n",
            "\n",
            "furniture\n",
            "True    10692\n",
            "Name: furniture, dtype: int64\n",
            "\n",
            "hoa (R$)\n",
            "True    10692\n",
            "Name: hoa (R$), dtype: int64\n",
            "\n",
            "rent amount (R$)\n",
            "True    10692\n",
            "Name: rent amount (R$), dtype: int64\n",
            "\n",
            "property tax (R$)\n",
            "True    10692\n",
            "Name: property tax (R$), dtype: int64\n",
            "\n",
            "fire insurance (R$)\n",
            "True    10692\n",
            "Name: fire insurance (R$), dtype: int64\n",
            "\n",
            "total (R$)\n",
            "True    10692\n",
            "Name: total (R$), dtype: int64\n",
            "\n"
          ],
          "name": "stdout"
        }
      ]
    },
    {
      "cell_type": "markdown",
      "metadata": {
        "id": "EQGUdJzH4H7W",
        "colab_type": "text"
      },
      "source": [
        "> Hence, here we first check for all the columns if they are not empty by using <code>not_null()</code> method of the dataframe. And then we count the frequency of values in all columns (in this case, either true or false) and we see all are true with count 10692 except column <code>floors</code> which has alot of missing values.\n",
        "\n",
        ">Due to a large number of missing values, we cannot drop the rows. And we cant assign 0 to them by ourseleves as it would tamper the dataset. The best option is to **replace missing values by their mean.**"
      ]
    },
    {
      "cell_type": "code",
      "metadata": {
        "id": "kiQ90UOt7M0Z",
        "colab_type": "code",
        "colab": {
          "base_uri": "https://localhost:8080/",
          "height": 34
        },
        "outputId": "21a0382a-75db-49d6-9f80-7853c020d6f5"
      },
      "source": [
        "avg_floor = data['floor'].astype(float).mean(axis = 0)\n",
        "print(\"Average of the floor is: \",avg_floor)\n",
        "data.replace(np.nan, int(avg_floor), inplace = True)"
      ],
      "execution_count": null,
      "outputs": [
        {
          "output_type": "stream",
          "text": [
            "Average of the floor is:  6.583282711699672\n"
          ],
          "name": "stdout"
        }
      ]
    },
    {
      "cell_type": "markdown",
      "metadata": {
        "id": "wCQGGW69zmFt",
        "colab_type": "text"
      },
      "source": [
        "#### **Getting basic insights of dataset**"
      ]
    },
    {
      "cell_type": "code",
      "metadata": {
        "id": "CYjioQCVtzZD",
        "colab_type": "code",
        "colab": {
          "base_uri": "https://localhost:8080/",
          "height": 102
        },
        "outputId": "c243f731-878c-46d9-aba3-5ef226be1255"
      },
      "source": [
        "print('The columns of the data set are:\\n', data.columns)"
      ],
      "execution_count": null,
      "outputs": [
        {
          "output_type": "stream",
          "text": [
            "The columns of the data set are:\n",
            " Index(['city', 'area', 'rooms', 'bathroom', 'parking spaces', 'floor',\n",
            "       'animal', 'furniture', 'hoa (R$)', 'rent amount (R$)',\n",
            "       'property tax (R$)', 'fire insurance (R$)', 'total (R$)'],\n",
            "      dtype='object')\n"
          ],
          "name": "stdout"
        }
      ]
    },
    {
      "cell_type": "code",
      "metadata": {
        "id": "ErGZdT6z0TxJ",
        "colab_type": "code",
        "colab": {
          "base_uri": "https://localhost:8080/",
          "height": 255
        },
        "outputId": "08d63abb-bfb0-49f3-8057-b6fe829718a7"
      },
      "source": [
        "print(data.dtypes)"
      ],
      "execution_count": null,
      "outputs": [
        {
          "output_type": "stream",
          "text": [
            "city                   object\n",
            "area                    int64\n",
            "rooms                   int64\n",
            "bathroom                int64\n",
            "parking spaces          int64\n",
            "floor                  object\n",
            "animal                 object\n",
            "furniture              object\n",
            "hoa (R$)                int64\n",
            "rent amount (R$)        int64\n",
            "property tax (R$)       int64\n",
            "fire insurance (R$)     int64\n",
            "total (R$)              int64\n",
            "dtype: object\n"
          ],
          "name": "stdout"
        }
      ]
    },
    {
      "cell_type": "markdown",
      "metadata": {
        "id": "tXJFlHLZ5amy",
        "colab_type": "text"
      },
      "source": [
        "We see that all dtypes are correct except <code>floor</code> which should be int but is assigned object by pandas. So we change it to int64. "
      ]
    },
    {
      "cell_type": "code",
      "metadata": {
        "id": "A3jZArSz535L",
        "colab_type": "code",
        "colab": {
          "base_uri": "https://localhost:8080/",
          "height": 204
        },
        "outputId": "4247ffc9-6ca3-41c4-8dee-a803051d5545"
      },
      "source": [
        "data[['floor']] = data[['floor']].astype('int64') \n",
        "data.head()"
      ],
      "execution_count": null,
      "outputs": [
        {
          "output_type": "execute_result",
          "data": {
            "text/html": [
              "<div>\n",
              "<style scoped>\n",
              "    .dataframe tbody tr th:only-of-type {\n",
              "        vertical-align: middle;\n",
              "    }\n",
              "\n",
              "    .dataframe tbody tr th {\n",
              "        vertical-align: top;\n",
              "    }\n",
              "\n",
              "    .dataframe thead th {\n",
              "        text-align: right;\n",
              "    }\n",
              "</style>\n",
              "<table border=\"1\" class=\"dataframe\">\n",
              "  <thead>\n",
              "    <tr style=\"text-align: right;\">\n",
              "      <th></th>\n",
              "      <th>city</th>\n",
              "      <th>area</th>\n",
              "      <th>rooms</th>\n",
              "      <th>bathroom</th>\n",
              "      <th>parking spaces</th>\n",
              "      <th>floor</th>\n",
              "      <th>animal</th>\n",
              "      <th>furniture</th>\n",
              "      <th>hoa (R$)</th>\n",
              "      <th>rent amount (R$)</th>\n",
              "      <th>property tax (R$)</th>\n",
              "      <th>fire insurance (R$)</th>\n",
              "      <th>total (R$)</th>\n",
              "    </tr>\n",
              "  </thead>\n",
              "  <tbody>\n",
              "    <tr>\n",
              "      <th>0</th>\n",
              "      <td>São Paulo</td>\n",
              "      <td>70</td>\n",
              "      <td>2</td>\n",
              "      <td>1</td>\n",
              "      <td>1</td>\n",
              "      <td>7</td>\n",
              "      <td>acept</td>\n",
              "      <td>furnished</td>\n",
              "      <td>2065</td>\n",
              "      <td>3300</td>\n",
              "      <td>211</td>\n",
              "      <td>42</td>\n",
              "      <td>5618</td>\n",
              "    </tr>\n",
              "    <tr>\n",
              "      <th>1</th>\n",
              "      <td>São Paulo</td>\n",
              "      <td>320</td>\n",
              "      <td>4</td>\n",
              "      <td>4</td>\n",
              "      <td>0</td>\n",
              "      <td>20</td>\n",
              "      <td>acept</td>\n",
              "      <td>not furnished</td>\n",
              "      <td>1200</td>\n",
              "      <td>4960</td>\n",
              "      <td>1750</td>\n",
              "      <td>63</td>\n",
              "      <td>7973</td>\n",
              "    </tr>\n",
              "    <tr>\n",
              "      <th>2</th>\n",
              "      <td>Porto Alegre</td>\n",
              "      <td>80</td>\n",
              "      <td>1</td>\n",
              "      <td>1</td>\n",
              "      <td>1</td>\n",
              "      <td>6</td>\n",
              "      <td>acept</td>\n",
              "      <td>not furnished</td>\n",
              "      <td>1000</td>\n",
              "      <td>2800</td>\n",
              "      <td>0</td>\n",
              "      <td>41</td>\n",
              "      <td>3841</td>\n",
              "    </tr>\n",
              "    <tr>\n",
              "      <th>3</th>\n",
              "      <td>Porto Alegre</td>\n",
              "      <td>51</td>\n",
              "      <td>2</td>\n",
              "      <td>1</td>\n",
              "      <td>0</td>\n",
              "      <td>2</td>\n",
              "      <td>acept</td>\n",
              "      <td>not furnished</td>\n",
              "      <td>270</td>\n",
              "      <td>1112</td>\n",
              "      <td>22</td>\n",
              "      <td>17</td>\n",
              "      <td>1421</td>\n",
              "    </tr>\n",
              "    <tr>\n",
              "      <th>4</th>\n",
              "      <td>São Paulo</td>\n",
              "      <td>25</td>\n",
              "      <td>1</td>\n",
              "      <td>1</td>\n",
              "      <td>0</td>\n",
              "      <td>1</td>\n",
              "      <td>not acept</td>\n",
              "      <td>not furnished</td>\n",
              "      <td>0</td>\n",
              "      <td>800</td>\n",
              "      <td>25</td>\n",
              "      <td>11</td>\n",
              "      <td>836</td>\n",
              "    </tr>\n",
              "  </tbody>\n",
              "</table>\n",
              "</div>"
            ],
            "text/plain": [
              "           city  area  ...  fire insurance (R$)  total (R$)\n",
              "0     São Paulo    70  ...                   42        5618\n",
              "1     São Paulo   320  ...                   63        7973\n",
              "2  Porto Alegre    80  ...                   41        3841\n",
              "3  Porto Alegre    51  ...                   17        1421\n",
              "4     São Paulo    25  ...                   11         836\n",
              "\n",
              "[5 rows x 13 columns]"
            ]
          },
          "metadata": {
            "tags": []
          },
          "execution_count": 25
        }
      ]
    },
    {
      "cell_type": "markdown",
      "metadata": {
        "id": "tU-OspeU8oso",
        "colab_type": "text"
      },
      "source": [
        "#### **Analyzing the data**"
      ]
    },
    {
      "cell_type": "code",
      "metadata": {
        "id": "9oWah2yk0tj3",
        "colab_type": "code",
        "colab": {
          "base_uri": "https://localhost:8080/",
          "height": 461
        },
        "outputId": "20564522-397d-47f8-b64d-ac51bc7adf67"
      },
      "source": [
        "data.describe(include='all')"
      ],
      "execution_count": null,
      "outputs": [
        {
          "output_type": "execute_result",
          "data": {
            "text/html": [
              "<div>\n",
              "<style scoped>\n",
              "    .dataframe tbody tr th:only-of-type {\n",
              "        vertical-align: middle;\n",
              "    }\n",
              "\n",
              "    .dataframe tbody tr th {\n",
              "        vertical-align: top;\n",
              "    }\n",
              "\n",
              "    .dataframe thead th {\n",
              "        text-align: right;\n",
              "    }\n",
              "</style>\n",
              "<table border=\"1\" class=\"dataframe\">\n",
              "  <thead>\n",
              "    <tr style=\"text-align: right;\">\n",
              "      <th></th>\n",
              "      <th>city</th>\n",
              "      <th>area</th>\n",
              "      <th>rooms</th>\n",
              "      <th>bathroom</th>\n",
              "      <th>parking spaces</th>\n",
              "      <th>floor</th>\n",
              "      <th>animal</th>\n",
              "      <th>furniture</th>\n",
              "      <th>hoa (R$)</th>\n",
              "      <th>rent amount (R$)</th>\n",
              "      <th>property tax (R$)</th>\n",
              "      <th>fire insurance (R$)</th>\n",
              "      <th>total (R$)</th>\n",
              "    </tr>\n",
              "  </thead>\n",
              "  <tbody>\n",
              "    <tr>\n",
              "      <th>count</th>\n",
              "      <td>10692</td>\n",
              "      <td>10692.000000</td>\n",
              "      <td>10692.000000</td>\n",
              "      <td>10692.000000</td>\n",
              "      <td>10692.000000</td>\n",
              "      <td>10692.000000</td>\n",
              "      <td>10692</td>\n",
              "      <td>10692</td>\n",
              "      <td>1.069200e+04</td>\n",
              "      <td>10692.000000</td>\n",
              "      <td>10692.000000</td>\n",
              "      <td>10692.000000</td>\n",
              "      <td>1.069200e+04</td>\n",
              "    </tr>\n",
              "    <tr>\n",
              "      <th>unique</th>\n",
              "      <td>5</td>\n",
              "      <td>NaN</td>\n",
              "      <td>NaN</td>\n",
              "      <td>NaN</td>\n",
              "      <td>NaN</td>\n",
              "      <td>NaN</td>\n",
              "      <td>2</td>\n",
              "      <td>2</td>\n",
              "      <td>NaN</td>\n",
              "      <td>NaN</td>\n",
              "      <td>NaN</td>\n",
              "      <td>NaN</td>\n",
              "      <td>NaN</td>\n",
              "    </tr>\n",
              "    <tr>\n",
              "      <th>top</th>\n",
              "      <td>São Paulo</td>\n",
              "      <td>NaN</td>\n",
              "      <td>NaN</td>\n",
              "      <td>NaN</td>\n",
              "      <td>NaN</td>\n",
              "      <td>NaN</td>\n",
              "      <td>acept</td>\n",
              "      <td>not furnished</td>\n",
              "      <td>NaN</td>\n",
              "      <td>NaN</td>\n",
              "      <td>NaN</td>\n",
              "      <td>NaN</td>\n",
              "      <td>NaN</td>\n",
              "    </tr>\n",
              "    <tr>\n",
              "      <th>freq</th>\n",
              "      <td>5887</td>\n",
              "      <td>NaN</td>\n",
              "      <td>NaN</td>\n",
              "      <td>NaN</td>\n",
              "      <td>NaN</td>\n",
              "      <td>NaN</td>\n",
              "      <td>8316</td>\n",
              "      <td>8086</td>\n",
              "      <td>NaN</td>\n",
              "      <td>NaN</td>\n",
              "      <td>NaN</td>\n",
              "      <td>NaN</td>\n",
              "      <td>NaN</td>\n",
              "    </tr>\n",
              "    <tr>\n",
              "      <th>mean</th>\n",
              "      <td>NaN</td>\n",
              "      <td>149.217920</td>\n",
              "      <td>2.506079</td>\n",
              "      <td>2.236813</td>\n",
              "      <td>1.609147</td>\n",
              "      <td>6.449027</td>\n",
              "      <td>NaN</td>\n",
              "      <td>NaN</td>\n",
              "      <td>1.174022e+03</td>\n",
              "      <td>3896.247194</td>\n",
              "      <td>366.704358</td>\n",
              "      <td>53.300879</td>\n",
              "      <td>5.490487e+03</td>\n",
              "    </tr>\n",
              "    <tr>\n",
              "      <th>std</th>\n",
              "      <td>NaN</td>\n",
              "      <td>537.016942</td>\n",
              "      <td>1.171266</td>\n",
              "      <td>1.407198</td>\n",
              "      <td>1.589521</td>\n",
              "      <td>5.404949</td>\n",
              "      <td>NaN</td>\n",
              "      <td>NaN</td>\n",
              "      <td>1.559231e+04</td>\n",
              "      <td>3408.545518</td>\n",
              "      <td>3107.832321</td>\n",
              "      <td>47.768031</td>\n",
              "      <td>1.648473e+04</td>\n",
              "    </tr>\n",
              "    <tr>\n",
              "      <th>min</th>\n",
              "      <td>NaN</td>\n",
              "      <td>11.000000</td>\n",
              "      <td>1.000000</td>\n",
              "      <td>1.000000</td>\n",
              "      <td>0.000000</td>\n",
              "      <td>1.000000</td>\n",
              "      <td>NaN</td>\n",
              "      <td>NaN</td>\n",
              "      <td>0.000000e+00</td>\n",
              "      <td>450.000000</td>\n",
              "      <td>0.000000</td>\n",
              "      <td>3.000000</td>\n",
              "      <td>4.990000e+02</td>\n",
              "    </tr>\n",
              "    <tr>\n",
              "      <th>25%</th>\n",
              "      <td>NaN</td>\n",
              "      <td>56.000000</td>\n",
              "      <td>2.000000</td>\n",
              "      <td>1.000000</td>\n",
              "      <td>0.000000</td>\n",
              "      <td>3.000000</td>\n",
              "      <td>NaN</td>\n",
              "      <td>NaN</td>\n",
              "      <td>1.700000e+02</td>\n",
              "      <td>1530.000000</td>\n",
              "      <td>38.000000</td>\n",
              "      <td>21.000000</td>\n",
              "      <td>2.061750e+03</td>\n",
              "    </tr>\n",
              "    <tr>\n",
              "      <th>50%</th>\n",
              "      <td>NaN</td>\n",
              "      <td>90.000000</td>\n",
              "      <td>2.000000</td>\n",
              "      <td>2.000000</td>\n",
              "      <td>1.000000</td>\n",
              "      <td>6.000000</td>\n",
              "      <td>NaN</td>\n",
              "      <td>NaN</td>\n",
              "      <td>5.600000e+02</td>\n",
              "      <td>2661.000000</td>\n",
              "      <td>125.000000</td>\n",
              "      <td>36.000000</td>\n",
              "      <td>3.581500e+03</td>\n",
              "    </tr>\n",
              "    <tr>\n",
              "      <th>75%</th>\n",
              "      <td>NaN</td>\n",
              "      <td>182.000000</td>\n",
              "      <td>3.000000</td>\n",
              "      <td>3.000000</td>\n",
              "      <td>2.000000</td>\n",
              "      <td>8.000000</td>\n",
              "      <td>NaN</td>\n",
              "      <td>NaN</td>\n",
              "      <td>1.237500e+03</td>\n",
              "      <td>5000.000000</td>\n",
              "      <td>375.000000</td>\n",
              "      <td>68.000000</td>\n",
              "      <td>6.768000e+03</td>\n",
              "    </tr>\n",
              "    <tr>\n",
              "      <th>max</th>\n",
              "      <td>NaN</td>\n",
              "      <td>46335.000000</td>\n",
              "      <td>13.000000</td>\n",
              "      <td>10.000000</td>\n",
              "      <td>12.000000</td>\n",
              "      <td>301.000000</td>\n",
              "      <td>NaN</td>\n",
              "      <td>NaN</td>\n",
              "      <td>1.117000e+06</td>\n",
              "      <td>45000.000000</td>\n",
              "      <td>313700.000000</td>\n",
              "      <td>677.000000</td>\n",
              "      <td>1.120000e+06</td>\n",
              "    </tr>\n",
              "  </tbody>\n",
              "</table>\n",
              "</div>"
            ],
            "text/plain": [
              "             city          area  ...  fire insurance (R$)    total (R$)\n",
              "count       10692  10692.000000  ...         10692.000000  1.069200e+04\n",
              "unique          5           NaN  ...                  NaN           NaN\n",
              "top     São Paulo           NaN  ...                  NaN           NaN\n",
              "freq         5887           NaN  ...                  NaN           NaN\n",
              "mean          NaN    149.217920  ...            53.300879  5.490487e+03\n",
              "std           NaN    537.016942  ...            47.768031  1.648473e+04\n",
              "min           NaN     11.000000  ...             3.000000  4.990000e+02\n",
              "25%           NaN     56.000000  ...            21.000000  2.061750e+03\n",
              "50%           NaN     90.000000  ...            36.000000  3.581500e+03\n",
              "75%           NaN    182.000000  ...            68.000000  6.768000e+03\n",
              "max           NaN  46335.000000  ...           677.000000  1.120000e+06\n",
              "\n",
              "[11 rows x 13 columns]"
            ]
          },
          "metadata": {
            "tags": []
          },
          "execution_count": 26
        }
      ]
    },
    {
      "cell_type": "markdown",
      "metadata": {
        "id": "cuAmLcYL1cZ9",
        "colab_type": "text"
      },
      "source": [
        "> If we don't do <code>include='all'</code>, we will not have data for columns \n",
        "with object data type. But now, it will provide the statistical summary of all the columns, including object-typed attributes.\n",
        "\n",
        ">We can now see how many unique values, which is the top value and the frequency of top value in the object-typed columns.<br>\n",
        "\n",
        ">Then we can see the mean, standard deviation, minimum, maximum etc for the numeric data columns in the dataset. <br>\n",
        "\n",
        "> Some values in the table above show as \"NaN\", this is because those numbers are not available regarding a particular column type.<br>\n",
        "</p>"
      ]
    },
    {
      "cell_type": "code",
      "metadata": {
        "id": "11XRHEVX8o8y",
        "colab_type": "code",
        "colab": {
          "base_uri": "https://localhost:8080/",
          "height": 235
        },
        "outputId": "cae38b61-77b3-4f1c-ef6a-2f5feb7945a4"
      },
      "source": [
        "cities = data['city'].value_counts().to_frame()\n",
        "cities.rename(columns={'city':'count'}, inplace = True)\n",
        "cities.index.name = 'city'\n",
        "cities"
      ],
      "execution_count": null,
      "outputs": [
        {
          "output_type": "execute_result",
          "data": {
            "text/html": [
              "<div>\n",
              "<style scoped>\n",
              "    .dataframe tbody tr th:only-of-type {\n",
              "        vertical-align: middle;\n",
              "    }\n",
              "\n",
              "    .dataframe tbody tr th {\n",
              "        vertical-align: top;\n",
              "    }\n",
              "\n",
              "    .dataframe thead th {\n",
              "        text-align: right;\n",
              "    }\n",
              "</style>\n",
              "<table border=\"1\" class=\"dataframe\">\n",
              "  <thead>\n",
              "    <tr style=\"text-align: right;\">\n",
              "      <th></th>\n",
              "      <th>count</th>\n",
              "    </tr>\n",
              "    <tr>\n",
              "      <th>city</th>\n",
              "      <th></th>\n",
              "    </tr>\n",
              "  </thead>\n",
              "  <tbody>\n",
              "    <tr>\n",
              "      <th>São Paulo</th>\n",
              "      <td>5887</td>\n",
              "    </tr>\n",
              "    <tr>\n",
              "      <th>Rio de Janeiro</th>\n",
              "      <td>1501</td>\n",
              "    </tr>\n",
              "    <tr>\n",
              "      <th>Belo Horizonte</th>\n",
              "      <td>1258</td>\n",
              "    </tr>\n",
              "    <tr>\n",
              "      <th>Porto Alegre</th>\n",
              "      <td>1193</td>\n",
              "    </tr>\n",
              "    <tr>\n",
              "      <th>Campinas</th>\n",
              "      <td>853</td>\n",
              "    </tr>\n",
              "  </tbody>\n",
              "</table>\n",
              "</div>"
            ],
            "text/plain": [
              "                count\n",
              "city                 \n",
              "São Paulo        5887\n",
              "Rio de Janeiro   1501\n",
              "Belo Horizonte   1258\n",
              "Porto Alegre     1193\n",
              "Campinas          853"
            ]
          },
          "metadata": {
            "tags": []
          },
          "execution_count": 27
        }
      ]
    },
    {
      "cell_type": "markdown",
      "metadata": {
        "id": "agpXL4H_EPol",
        "colab_type": "text"
      },
      "source": [
        "> We see that we have data regarding five different cities."
      ]
    },
    {
      "cell_type": "code",
      "metadata": {
        "id": "_8QsNjXQARWY",
        "colab_type": "code",
        "colab": {
          "base_uri": "https://localhost:8080/",
          "height": 461
        },
        "outputId": "28ffa2de-fca4-4ac2-f431-6e754667ca7e"
      },
      "source": [
        "group_one = data[['city', 'area', 'total (R$)']]\n",
        "g1 = group_one.groupby('city').mean()\n",
        "g1 = g1.sort_values(ascending=True, by='area')\n",
        "g1['cost/area'] = g1['total (R$)']/g1['area']\n",
        "print(g1)\n",
        "\n",
        "#plot a bar chart for the feature\n",
        "g1[['cost/area']].plot(kind = 'bar', color = 'red')\n",
        "plt.xlabel('City')\n",
        "plt.ylabel('Cost per unit floor')\n",
        "plt.show()"
      ],
      "execution_count": null,
      "outputs": [
        {
          "output_type": "stream",
          "text": [
            "                      area   total (R$)  cost/area\n",
            "city                                              \n",
            "Porto Alegre    103.609388  2989.782900  28.856293\n",
            "Rio de Janeiro  105.347768  4611.684877  43.775819\n",
            "Campinas        137.561547  3173.276671  23.068050\n",
            "São Paulo       158.899439  6380.831833  40.156415\n",
            "Belo Horizonte  207.411765  6315.242448  30.447851\n"
          ],
          "name": "stdout"
        },
        {
          "output_type": "display_data",
          "data": {
            "image/png": "[encoded data removed]",
            "text/plain": [
              "<Figure size 432x288 with 1 Axes>"
            ]
          },
          "metadata": {
            "tags": [],
            "needs_background": "light"
          }
        }
      ]
    },
    {
      "cell_type": "markdown",
      "metadata": {
        "id": "nVDqsl04MgSN",
        "colab_type": "text"
      },
      "source": [
        "We see that although on average, house in <code>Belo Horizonte</code> has more area but **cost per unit area** is more in <code> Rio de Janeiro</code>."
      ]
    },
    {
      "cell_type": "code",
      "metadata": {
        "id": "3iZJsB6UFGZ1",
        "colab_type": "code",
        "colab": {
          "base_uri": "https://localhost:8080/",
          "height": 464
        },
        "outputId": "3e07fe60-e4f4-4257-fb00-9a92afd810eb"
      },
      "source": [
        "group_two = data[['city', 'floor', 'total (R$)']]\n",
        "g2 = group_two.groupby('city').mean()\n",
        "g2 = g2.sort_values(ascending=True, by='floor')\n",
        "g2['cost/floor'] = g2['total (R$)']/g2['floor']\n",
        "print(g2)\n",
        "\n",
        "#plot a bar chart for the feature\n",
        "g2[['cost/floor']].plot(kind = 'bar', color = 'green')\n",
        "plt.xlabel('City')\n",
        "plt.ylabel('Cost per unit Area')\n",
        "plt.show()"
      ],
      "execution_count": null,
      "outputs": [
        {
          "output_type": "stream",
          "text": [
            "                   floor   total (R$)   cost/floor\n",
            "city                                              \n",
            "Porto Alegre    4.894384  2989.782900   610.859908\n",
            "Belo Horizonte  5.492051  6315.242448  1149.887827\n",
            "Rio de Janeiro  5.678215  4611.684877   812.171653\n",
            "Campinas        5.715123  3173.276671   555.242051\n",
            "São Paulo       7.271446  6380.831833   877.519027\n"
          ],
          "name": "stdout"
        },
        {
          "output_type": "display_data",
          "data": {
            "image/png": "[encoded data removed]",
            "text/plain": [
              "<Figure size 432x288 with 1 Axes>"
            ]
          },
          "metadata": {
            "tags": [],
            "needs_background": "light"
          }
        }
      ]
    },
    {
      "cell_type": "code",
      "metadata": {
        "id": "-MHWn_2gNgM4",
        "colab_type": "code",
        "colab": {
          "base_uri": "https://localhost:8080/",
          "height": 461
        },
        "outputId": "ac438875-9682-4403-e2fc-8ff8cf744268"
      },
      "source": [
        "group_three = data[['city', 'rooms', 'total (R$)']]\n",
        "g3 = group_three.groupby('city').mean()\n",
        "g3 = g3.sort_values(ascending=True, by='rooms')\n",
        "g3['cost/rooms'] = g3['total (R$)']/g3['rooms']\n",
        "print(g3)\n",
        "\n",
        "#plot a bar chart for the feature\n",
        "g3[['cost/rooms']].plot(kind = 'bar', color = 'blue')\n",
        "plt.xlabel('City')\n",
        "plt.ylabel('Cost per Room')\n",
        "plt.show()"
      ],
      "execution_count": null,
      "outputs": [
        {
          "output_type": "stream",
          "text": [
            "                   rooms   total (R$)   cost/rooms\n",
            "city                                              \n",
            "Porto Alegre    2.140821  2989.782900  1396.558731\n",
            "Rio de Janeiro  2.243837  4611.684877  2055.266924\n",
            "Campinas        2.355217  3173.276671  1347.339472\n",
            "São Paulo       2.558859  6380.831833  2493.624336\n",
            "Belo Horizonte  3.020668  6315.242448  2090.677632\n"
          ],
          "name": "stdout"
        },
        {
          "output_type": "display_data",
          "data": {
            "image/png": "[encoded data removed]",
            "text/plain": [
              "<Figure size 432x288 with 1 Axes>"
            ]
          },
          "metadata": {
            "tags": [],
            "needs_background": "light"
          }
        }
      ]
    },
    {
      "cell_type": "code",
      "metadata": {
        "id": "CV4jeCozOokw",
        "colab_type": "code",
        "colab": {
          "base_uri": "https://localhost:8080/",
          "height": 398
        },
        "outputId": "87b58d4c-7773-4d19-f1a8-4a3760713f25"
      },
      "source": [
        "group_four = data[['city', 'rent amount (R$)', 'total (R$)']]\n",
        "g4 = group_four.groupby('city').mean()\n",
        "g4 = g4.sort_values(ascending=True, by='rent amount (R$)')\n",
        "print(g4)\n",
        "\n",
        "#plot a bar chart for the feature\n",
        "g4[['rent amount (R$)', 'total (R$)']].plot(kind = 'line', color = 'orange')\n",
        "plt.xlabel('City')\n",
        "plt.ylabel('Cost per Room')\n",
        "plt.show()"
      ],
      "execution_count": null,
      "outputs": [
        {
          "output_type": "stream",
          "text": [
            "                rent amount (R$)   total (R$)\n",
            "city                                         \n",
            "Porto Alegre         2337.699916  2989.782900\n",
            "Campinas             2364.290739  3173.276671\n",
            "Rio de Janeiro       3232.904064  4611.684877\n",
            "Belo Horizonte       3664.127981  6315.242448\n",
            "São Paulo            4652.793783  6380.831833\n"
          ],
          "name": "stdout"
        },
        {
          "output_type": "display_data",
          "data": {
            "image/png": "[encoded data removed]",
            "text/plain": [
              "<Figure size 432x288 with 1 Axes>"
            ]
          },
          "metadata": {
            "tags": [],
            "needs_background": "light"
          }
        }
      ]
    },
    {
      "cell_type": "markdown",
      "metadata": {
        "id": "xJaYdp_cRxyP",
        "colab_type": "text"
      },
      "source": [
        "#### **Pearson Correlation**\n",
        "In trying to find dependence and correlation between various elements, we will use Pearson correlation cooeficient.\n",
        "<p3>Pearson Correlation</p>\n",
        "<p>The Pearson Correlation measures the linear dependence between two variables X and Y.</p>\n",
        "<p>The resulting coefficient is a value between -1 and 1 inclusive, where:</p>\n",
        "<ul>\n",
        "    <li><b>1</b>: Total positive linear correlation.</li>\n",
        "    <li><b>0</b>: No linear correlation, the two variables most likely do not affect each other.</li>\n",
        "    <li><b>-1</b>: Total negative linear correlation.</li>\n",
        "</ul>"
      ]
    },
    {
      "cell_type": "code",
      "metadata": {
        "id": "nSw0i5eLPRUe",
        "colab_type": "code",
        "colab": {
          "base_uri": "https://localhost:8080/",
          "height": 352
        },
        "outputId": "1e9e9ad3-b51e-4ccc-fb7d-e3290451b7c3"
      },
      "source": [
        "cor = data.corr()\n",
        "\n",
        "fig, ax = plt.subplots()\n",
        "im = ax.pcolor(cor, cmap='RdBu')\n",
        "\n",
        "#label names\n",
        "row_labels = cor.columns\n",
        "col_labels = cor.index\n",
        "\n",
        "#move ticks and labels to the center\n",
        "ax.set_xticks(np.arange(cor.shape[1]) + 0.5, minor=False)\n",
        "ax.set_yticks(np.arange(cor.shape[0]) + 0.5, minor=False)\n",
        "\n",
        "#insert labels\n",
        "ax.set_xticklabels(row_labels, minor=False)\n",
        "ax.set_yticklabels(col_labels, minor=False)\n",
        "\n",
        "#rotate label if too long\n",
        "plt.xticks(rotation=90)\n",
        "\n",
        "fig.colorbar(im)\n",
        "plt.show()"
      ],
      "execution_count": null,
      "outputs": [
        {
          "output_type": "display_data",
          "data": {
            "image/png": "[encoded data removed]",
            "text/plain": [
              "<Figure size 432x288 with 2 Axes>"
            ]
          },
          "metadata": {
            "tags": [],
            "needs_background": "light"
          }
        }
      ]
    },
    {
      "cell_type": "markdown",
      "metadata": {
        "id": "1wEkgiSvUO2A",
        "colab_type": "text"
      },
      "source": [
        "The diagonal elements are always one as they are denoting the correlation with one another. The more the blue intensity, the larger is the linear correlation between two variables. The values between 0 to 1 indicate that there is only positive linear relation i.e. one feature increases with the other.\n",
        "<p> Every thing is clear through this map only and we can conclude about the linearily of relationships from this. Still we will plot some graphs to prove it."
      ]
    },
    {
      "cell_type": "markdown",
      "metadata": {
        "id": "Y2qbYIYQWgKw",
        "colab_type": "text"
      },
      "source": [
        "<b>P-value</b>: \n",
        "<p>What is this P-value? The P-value is the probability value that the correlation between these two variables is statistically significant. Normally, we choose a significance level of 0.05, which means that we are 95% confident that the correlation between the variables is significant.</p>\n",
        "\n",
        "By convention, when the\n",
        "<ul>\n",
        "    <li>p-value is $<$ 0.001: we say there is strong evidence that the correlation is significant.</li>\n",
        "    <li>the p-value is $<$ 0.05: there is moderate evidence that the correlation is significant.</li>\n",
        "    <li>the p-value is $<$ 0.1: there is weak evidence that the correlation is significant.</li>\n",
        "    <li>the p-value is $>$ 0.1: there is no evidence that the correlation is significant.</li>\n",
        "</ul>"
      ]
    },
    {
      "cell_type": "code",
      "metadata": {
        "id": "PMHWcfqqWjzj",
        "colab_type": "code",
        "colab": {}
      },
      "source": [
        "from scipy import stats"
      ],
      "execution_count": null,
      "outputs": []
    },
    {
      "cell_type": "markdown",
      "metadata": {
        "id": "ymd23VbEU-7_",
        "colab_type": "text"
      },
      "source": [
        "#### **House Association Tax against other features**\n",
        "\n",
        "> From the above correlation map, we see that hoa does not seem to have linear dependence on other features although it does have linear relation with total amount.\n",
        "\n",
        ">Lets try to plot it against various features and see if other relations exist."
      ]
    },
    {
      "cell_type": "markdown",
      "metadata": {
        "id": "KA13KrGDYAse",
        "colab_type": "text"
      },
      "source": [
        "###### **hoa vs area**"
      ]
    },
    {
      "cell_type": "code",
      "metadata": {
        "id": "DtCgm7IaU-m4",
        "colab_type": "code",
        "colab": {
          "base_uri": "https://localhost:8080/",
          "height": 283
        },
        "outputId": "a829d35c-87c1-4c18-96b7-5771d362693b"
      },
      "source": [
        "data['area_normalized'] = (data['area'] - data['area'].mean())/data['area'].std()\n",
        "data['hoa (R$)_normalized'] = (data['hoa (R$)'] - data['hoa (R$)'].mean())/data['hoa (R$)'].std()\n",
        "plt.scatter(x = 'area_normalized', y = 'hoa (R$)_normalized', data = data)\n",
        "plt.xlim(0, 2)\n",
        "plt.ylim(0, 1)\n",
        "plt.xlabel('area')\n",
        "plt.ylabel('hoa')\n",
        "plt.show()"
      ],
      "execution_count": null,
      "outputs": [
        {
          "output_type": "display_data",
          "data": {
            "image/png": "[encoded data removed]",
            "text/plain": [
              "<Figure size 432x288 with 1 Axes>"
            ]
          },
          "metadata": {
            "tags": [],
            "needs_background": "light"
          }
        }
      ]
    },
    {
      "cell_type": "code",
      "metadata": {
        "id": "igEIFDeOSFTV",
        "colab_type": "code",
        "colab": {
          "base_uri": "https://localhost:8080/",
          "height": 34
        },
        "outputId": "4e6faa79-033c-4b5e-ddf2-cd0eff31673f"
      },
      "source": [
        "pearson_coef, p_value = stats.pearsonr(data['area'], data['hoa (R$)'])\n",
        "print(\"The Pearson Correlation Coefficient is\", pearson_coef, \" with a P-value of P =\", p_value)  "
      ],
      "execution_count": null,
      "outputs": [
        {
          "output_type": "stream",
          "text": [
            "The Pearson Correlation Coefficient is 0.006890104504921708  with a P-value of P = 0.47623158729173526\n"
          ],
          "name": "stdout"
        }
      ]
    },
    {
      "cell_type": "markdown",
      "metadata": {
        "id": "mk_h4vjQXqf7",
        "colab_type": "text"
      },
      "source": [
        "With the plot above we can see that there is not particularly a linear relation between the two. The Pearson coefficicent is small however the P value is large so there is no evidence of the coefficinet value. However we can say that it is increasing with increase in area."
      ]
    },
    {
      "cell_type": "markdown",
      "metadata": {
        "id": "2UIjrDxkYTNr",
        "colab_type": "text"
      },
      "source": [
        "###### **hoa vs floors**"
      ]
    },
    {
      "cell_type": "code",
      "metadata": {
        "id": "Iw-iJ4rTXbrq",
        "colab_type": "code",
        "colab": {
          "base_uri": "https://localhost:8080/",
          "height": 283
        },
        "outputId": "0020ac04-9b11-4279-c2c4-31e23525bbea"
      },
      "source": [
        "data['floor_normalized'] = (data['floor'] - data['floor'].mean())/data['floor'].std()\n",
        "plt.scatter(x = 'floor', y = 'hoa (R$)_normalized', data = data)\n",
        "plt.xlim(0, 10)\n",
        "plt.ylim(0, 2)\n",
        "plt.xlabel('floor')\n",
        "plt.ylabel('hoa')\n",
        "plt.show()"
      ],
      "execution_count": null,
      "outputs": [
        {
          "output_type": "display_data",
          "data": {
            "image/png": "[encoded data removed]",
            "text/plain": [
              "<Figure size 432x288 with 1 Axes>"
            ]
          },
          "metadata": {
            "tags": [],
            "needs_background": "light"
          }
        }
      ]
    },
    {
      "cell_type": "code",
      "metadata": {
        "id": "5gvZR643Yokg",
        "colab_type": "code",
        "colab": {
          "base_uri": "https://localhost:8080/",
          "height": 34
        },
        "outputId": "f758719e-b927-4834-cce9-ab732ae38e83"
      },
      "source": [
        "pearson_coef, p_value = stats.pearsonr(data['floor'], data['hoa (R$)'])\n",
        "print(\"The Pearson Correlation Coefficient is\", pearson_coef, \" with a P-value of P =\", p_value)  "
      ],
      "execution_count": null,
      "outputs": [
        {
          "output_type": "stream",
          "text": [
            "The Pearson Correlation Coefficient is 0.005280537947299709  with a P-value of P = 0.5850942399880663\n"
          ],
          "name": "stdout"
        }
      ]
    },
    {
      "cell_type": "markdown",
      "metadata": {
        "id": "GlSIJ3A4Y7u-",
        "colab_type": "text"
      },
      "source": [
        "From above, we find interesting relation between the two as the hoa depends interstingly on the floors. We ca nsay that for a particular floor value tends to increase, which may depend on other features."
      ]
    },
    {
      "cell_type": "markdown",
      "metadata": {
        "id": "-vE8V01ibUhA",
        "colab_type": "text"
      },
      "source": [
        "###### **hoa vs rooms**"
      ]
    },
    {
      "cell_type": "code",
      "metadata": {
        "id": "S66fuQ_gY6cF",
        "colab_type": "code",
        "colab": {
          "base_uri": "https://localhost:8080/",
          "height": 283
        },
        "outputId": "ec46018c-28e5-4491-fa97-ae81209b325b"
      },
      "source": [
        "#data['rooms_normalized'] = (data['rooms'] - data['floor'].mean())/data['floor'].std()\n",
        "plt.scatter(x = 'rooms', y = 'hoa (R$)_normalized', data = data)\n",
        "plt.xlim(0, 10)\n",
        "plt.ylim(0, 2)\n",
        "plt.xlabel('rooms')\n",
        "plt.ylabel('hoa')\n",
        "plt.show()"
      ],
      "execution_count": null,
      "outputs": [
        {
          "output_type": "display_data",
          "data": {
            "image/png": "[encoded data removed]",
            "text/plain": [
              "<Figure size 432x288 with 1 Axes>"
            ]
          },
          "metadata": {
            "tags": [],
            "needs_background": "light"
          }
        }
      ]
    },
    {
      "cell_type": "code",
      "metadata": {
        "id": "B6WXqndWg724",
        "colab_type": "code",
        "colab": {
          "base_uri": "https://localhost:8080/",
          "height": 34
        },
        "outputId": "a4ef19b8-c6cd-4ab0-d844-a70f1c4de60b"
      },
      "source": [
        "pearson_coef, p_value = stats.pearsonr(data['rooms'], data['hoa (R$)'])\n",
        "print(\"The Pearson Correlation Coefficient is\", pearson_coef, \" with a P-value of P =\", p_value)  "
      ],
      "execution_count": null,
      "outputs": [
        {
          "output_type": "stream",
          "text": [
            "The Pearson Correlation Coefficient is 0.007138618515731237  with a P-value of P = 0.4604710350435129\n"
          ],
          "name": "stdout"
        }
      ]
    },
    {
      "cell_type": "markdown",
      "metadata": {
        "id": "aZ7i5qBIbHLd",
        "colab_type": "text"
      },
      "source": [
        "Similarly, we can conclude for rooms as we concluded for floors>"
      ]
    },
    {
      "cell_type": "code",
      "metadata": {
        "id": "IBi6kxZnbBLO",
        "colab_type": "code",
        "colab": {
          "base_uri": "https://localhost:8080/",
          "height": 283
        },
        "outputId": "00982f17-162e-4ff0-8262-3d09b03e3354"
      },
      "source": [
        "#data['rooms_normalized'] = (data['rooms'] - data['floor'].mean())/data['floor'].std()\n",
        "plt.scatter(x = 'parking spaces', y = 'hoa (R$)_normalized', data = data)\n",
        "plt.xlim(0, 10)\n",
        "plt.ylim(0, 2)\n",
        "plt.xlabel('parking space')\n",
        "plt.ylabel('hoa')\n",
        "plt.show()"
      ],
      "execution_count": null,
      "outputs": [
        {
          "output_type": "display_data",
          "data": {
            "image/png": "[encoded data removed]",
            "text/plain": [
              "<Figure size 432x288 with 1 Axes>"
            ]
          },
          "metadata": {
            "tags": [],
            "needs_background": "light"
          }
        }
      ]
    },
    {
      "cell_type": "code",
      "metadata": {
        "id": "Xi4Cj29kg_Ta",
        "colab_type": "code",
        "colab": {
          "base_uri": "https://localhost:8080/",
          "height": 34
        },
        "outputId": "475cfe82-8bb4-448c-c3b6-0d5df3eb824e"
      },
      "source": [
        "pearson_coef, p_value = stats.pearsonr(data['parking spaces'], data['hoa (R$)'])\n",
        "print(\"The Pearson Correlation Coefficient is\", pearson_coef, \" with a P-value of P =\", p_value)  "
      ],
      "execution_count": null,
      "outputs": [
        {
          "output_type": "stream",
          "text": [
            "The Pearson Correlation Coefficient is 0.00932143721256299  with a P-value of P = 0.33516391531109757\n"
          ],
          "name": "stdout"
        }
      ]
    },
    {
      "cell_type": "markdown",
      "metadata": {
        "id": "Jc9dDQQRbjv6",
        "colab_type": "text"
      },
      "source": [
        "#### **Property Tax against other features**\n",
        "\n",
        "> From the above correlation map, we see that property tax does not seem to have linear dependence on other features although it does have linear relation with total amount.\n",
        "\n",
        ">Lets try to plot it against various features and see if other relations exist."
      ]
    },
    {
      "cell_type": "markdown",
      "metadata": {
        "id": "4TS3GdsScSfQ",
        "colab_type": "text"
      },
      "source": [
        "###### **Property tax vs area**"
      ]
    },
    {
      "cell_type": "code",
      "metadata": {
        "id": "9zJfCG5DbccH",
        "colab_type": "code",
        "colab": {
          "base_uri": "https://localhost:8080/",
          "height": 283
        },
        "outputId": "fd992b54-94ad-4402-ab57-48dd4140c8dc"
      },
      "source": [
        "data['prop (R$)_normalized'] = (data['property tax (R$)'] - data['property tax (R$)'].mean())/data['property tax (R$)'].std()\n",
        "plt.scatter(x = 'area_normalized', y = 'prop (R$)_normalized', data = data)\n",
        "plt.xlim(0, 2)\n",
        "plt.ylim(0, 2)\n",
        "plt.xlabel('area')\n",
        "plt.ylabel('hoa')\n",
        "plt.show()"
      ],
      "execution_count": null,
      "outputs": [
        {
          "output_type": "display_data",
          "data": {
            "image/png": "[encoded data removed]",
            "text/plain": [
              "<Figure size 432x288 with 1 Axes>"
            ]
          },
          "metadata": {
            "tags": [],
            "needs_background": "light"
          }
        }
      ]
    },
    {
      "cell_type": "code",
      "metadata": {
        "id": "QHXshJafhCoR",
        "colab_type": "code",
        "colab": {
          "base_uri": "https://localhost:8080/",
          "height": 34
        },
        "outputId": "b2f15db6-c60e-4260-cb0d-7f548fb3605d"
      },
      "source": [
        "pearson_coef, p_value = stats.pearsonr(data['area'], data['property tax (R$)'])\n",
        "print(\"The Pearson Correlation Coefficient is\", pearson_coef, \" with a P-value of P =\", p_value)  "
      ],
      "execution_count": null,
      "outputs": [
        {
          "output_type": "stream",
          "text": [
            "The Pearson Correlation Coefficient is 0.0390585231611026  with a P-value of P = 5.349596762467054e-05\n"
          ],
          "name": "stdout"
        }
      ]
    },
    {
      "cell_type": "markdown",
      "metadata": {
        "id": "czm3NijwcWMG",
        "colab_type": "text"
      },
      "source": [
        "###### **Propeerty tax vs rooms**"
      ]
    },
    {
      "cell_type": "code",
      "metadata": {
        "id": "HZ0n_AU9b9pu",
        "colab_type": "code",
        "colab": {
          "base_uri": "https://localhost:8080/",
          "height": 283
        },
        "outputId": "dcd6dcce-ab25-422a-fe45-845abc75ed2c"
      },
      "source": [
        "plt.scatter(x = 'rooms', y = 'prop (R$)_normalized', data = data)\n",
        "plt.xlim(0, 10)\n",
        "plt.ylim(0, 2)\n",
        "plt.xlabel('rooms')\n",
        "plt.ylabel('property tax')\n",
        "plt.show()"
      ],
      "execution_count": null,
      "outputs": [
        {
          "output_type": "display_data",
          "data": {
            "image/png": "[encoded data removed]",
            "text/plain": [
              "<Figure size 432x288 with 1 Axes>"
            ]
          },
          "metadata": {
            "tags": [],
            "needs_background": "light"
          }
        }
      ]
    },
    {
      "cell_type": "code",
      "metadata": {
        "id": "AKiTQGNbhIZQ",
        "colab_type": "code",
        "colab": {
          "base_uri": "https://localhost:8080/",
          "height": 34
        },
        "outputId": "c733b4ef-879e-458d-c602-90ff3cc3b35f"
      },
      "source": [
        "pearson_coef, p_value = stats.pearsonr(data['rooms'], data['property tax (R$)'])\n",
        "print(\"The Pearson Correlation Coefficient is\", pearson_coef, \" with a P-value of P =\", p_value)  "
      ],
      "execution_count": null,
      "outputs": [
        {
          "output_type": "stream",
          "text": [
            "The Pearson Correlation Coefficient is 0.07525241965306012  with a P-value of P = 6.627104635190164e-15\n"
          ],
          "name": "stdout"
        }
      ]
    },
    {
      "cell_type": "markdown",
      "metadata": {
        "id": "Kj5Jx00fcqEs",
        "colab_type": "text"
      },
      "source": [
        "###### **Property tax vs floors**"
      ]
    },
    {
      "cell_type": "code",
      "metadata": {
        "id": "alPSx-YrcfZp",
        "colab_type": "code",
        "colab": {
          "base_uri": "https://localhost:8080/",
          "height": 283
        },
        "outputId": "082b577f-9e01-4bfe-e989-8413bab90df5"
      },
      "source": [
        "\n",
        "plt.scatter(x = 'floor', y = 'prop (R$)_normalized', data = data)\n",
        "plt.xlim(0, 10)\n",
        "plt.ylim(0, 2)\n",
        "plt.xlabel('floor')\n",
        "plt.ylabel('property tax')\n",
        "plt.show()"
      ],
      "execution_count": null,
      "outputs": [
        {
          "output_type": "display_data",
          "data": {
            "image/png": "[encoded data removed]",
            "text/plain": [
              "<Figure size 432x288 with 1 Axes>"
            ]
          },
          "metadata": {
            "tags": [],
            "needs_background": "light"
          }
        }
      ]
    },
    {
      "cell_type": "code",
      "metadata": {
        "id": "b9k5P5EMhOp-",
        "colab_type": "code",
        "colab": {
          "base_uri": "https://localhost:8080/",
          "height": 34
        },
        "outputId": "5db261d2-917e-47cc-91b5-0d53fce20271"
      },
      "source": [
        "pearson_coef, p_value = stats.pearsonr(data['floor'], data['property tax (R$)'])\n",
        "print(\"The Pearson Correlation Coefficient is\", pearson_coef, \" with a P-value of P =\", p_value)  "
      ],
      "execution_count": null,
      "outputs": [
        {
          "output_type": "stream",
          "text": [
            "The Pearson Correlation Coefficient is 0.02021760087609074  with a P-value of P = 0.03657181540673652\n"
          ],
          "name": "stdout"
        }
      ]
    },
    {
      "cell_type": "markdown",
      "metadata": {
        "id": "C_RoIwcBc5xi",
        "colab_type": "text"
      },
      "source": [
        "###### **Property tax vs parking space**"
      ]
    },
    {
      "cell_type": "code",
      "metadata": {
        "id": "lP04REigcuQm",
        "colab_type": "code",
        "colab": {
          "base_uri": "https://localhost:8080/",
          "height": 283
        },
        "outputId": "500891ab-54b4-416a-e4c6-e492d5ce4cbe"
      },
      "source": [
        "plt.scatter(x = 'parking spaces', y = 'prop (R$)_normalized', data = data)\n",
        "plt.xlim(0, 10)\n",
        "plt.ylim(0, 2)\n",
        "plt.xlabel('parking space')\n",
        "plt.ylabel('property tax')\n",
        "plt.show()"
      ],
      "execution_count": null,
      "outputs": [
        {
          "output_type": "display_data",
          "data": {
            "image/png": "[encoded data removed]",
            "text/plain": [
              "<Figure size 432x288 with 1 Axes>"
            ]
          },
          "metadata": {
            "tags": [],
            "needs_background": "light"
          }
        }
      ]
    },
    {
      "cell_type": "code",
      "metadata": {
        "id": "xRgtX9p4hREf",
        "colab_type": "code",
        "colab": {
          "base_uri": "https://localhost:8080/",
          "height": 34
        },
        "outputId": "e50c27f9-b296-47c5-de92-f572d5df9e69"
      },
      "source": [
        "pearson_coef, p_value = stats.pearsonr(data['parking spaces'], data['property tax (R$)'])\n",
        "print(\"The Pearson Correlation Coefficient is\", pearson_coef, \" with a P-value of P =\", p_value)  "
      ],
      "execution_count": null,
      "outputs": [
        {
          "output_type": "stream",
          "text": [
            "The Pearson Correlation Coefficient is 0.09837766039786719  with a P-value of P = 2.0658608090278485e-24\n"
          ],
          "name": "stdout"
        }
      ]
    },
    {
      "cell_type": "markdown",
      "metadata": {
        "id": "xWZ-x6aadD3a",
        "colab_type": "text"
      },
      "source": [
        "Again we see for each that, it increases for particular floor or parking space etc depending on other features."
      ]
    },
    {
      "cell_type": "markdown",
      "metadata": {
        "id": "hca6pmT3dNcb",
        "colab_type": "text"
      },
      "source": [
        "#### **Fire insurance vs other features**\n",
        "\n",
        "> From the above correlation map, we see that fire insurance as well does not seem to have linear dependence on other features although it does have linear relation with total amount.\n",
        "\n",
        ">Lets try to plot it against various features and see if other relations exist."
      ]
    },
    {
      "cell_type": "markdown",
      "metadata": {
        "id": "hU34k2Qud2HF",
        "colab_type": "text"
      },
      "source": [
        "###### **Fire insurance vs area**"
      ]
    },
    {
      "cell_type": "code",
      "metadata": {
        "id": "jevwnypYdCKB",
        "colab_type": "code",
        "colab": {
          "base_uri": "https://localhost:8080/",
          "height": 283
        },
        "outputId": "722f6b48-3246-438a-bdc6-0adc3a10de5e"
      },
      "source": [
        "data['fire (R$)_normalized'] = (data['fire insurance (R$)'] - data['fire insurance (R$)'].mean())/data['fire insurance (R$)'].std()\n",
        "plt.scatter(x = 'area_normalized', y = 'fire (R$)_normalized', data = data)\n",
        "plt.xlim(0, 3)\n",
        "plt.ylim(0, 5)\n",
        "plt.xlabel('area')\n",
        "plt.ylabel('fire insurance')\n",
        "plt.show()"
      ],
      "execution_count": null,
      "outputs": [
        {
          "output_type": "display_data",
          "data": {
            "image/png": "[encoded data removed]",
            "text/plain": [
              "<Figure size 432x288 with 1 Axes>"
            ]
          },
          "metadata": {
            "tags": [],
            "needs_background": "light"
          }
        }
      ]
    },
    {
      "cell_type": "code",
      "metadata": {
        "id": "lnZushxKhUfg",
        "colab_type": "code",
        "colab": {
          "base_uri": "https://localhost:8080/",
          "height": 34
        },
        "outputId": "adf29581-1672-40ea-dfd9-ec61c9644a96"
      },
      "source": [
        "pearson_coef, p_value = stats.pearsonr(data['area'], data['fire insurance (R$)'])\n",
        "print(\"The Pearson Correlation Coefficient is\", pearson_coef, \" with a P-value of P =\", p_value)  "
      ],
      "execution_count": null,
      "outputs": [
        {
          "output_type": "stream",
          "text": [
            "The Pearson Correlation Coefficient is 0.18807805236983705  with a P-value of P = 1.0285303493276856e-85\n"
          ],
          "name": "stdout"
        }
      ]
    },
    {
      "cell_type": "markdown",
      "metadata": {
        "id": "ysfnOxVyd6hY",
        "colab_type": "text"
      },
      "source": [
        "###### **Fire insurance vs rooms**"
      ]
    },
    {
      "cell_type": "code",
      "metadata": {
        "id": "CcazwHaKdspk",
        "colab_type": "code",
        "colab": {
          "base_uri": "https://localhost:8080/",
          "height": 283
        },
        "outputId": "d44d668d-c3dd-4161-97c8-4e1ecbd1798f"
      },
      "source": [
        "plt.scatter(x = 'rooms', y = 'fire (R$)_normalized', data = data)\n",
        "plt.xlim(0, 10)\n",
        "plt.ylim(0, 5)\n",
        "plt.xlabel('rooms')\n",
        "plt.ylabel('fire insurance')\n",
        "plt.show()"
      ],
      "execution_count": null,
      "outputs": [
        {
          "output_type": "display_data",
          "data": {
            "image/png": "[encoded data removed]",
            "text/plain": [
              "<Figure size 432x288 with 1 Axes>"
            ]
          },
          "metadata": {
            "tags": [],
            "needs_background": "light"
          }
        }
      ]
    },
    {
      "cell_type": "code",
      "metadata": {
        "id": "F3EbDJgPhYwa",
        "colab_type": "code",
        "colab": {
          "base_uri": "https://localhost:8080/",
          "height": 34
        },
        "outputId": "4218c679-f085-4dc6-9f93-b53971176392"
      },
      "source": [
        "pearson_coef, p_value = stats.pearsonr(data['rooms'], data['fire insurance (R$)'])\n",
        "print(\"The Pearson Correlation Coefficient is\", pearson_coef, \" with a P-value of P =\", p_value)  "
      ],
      "execution_count": null,
      "outputs": [
        {
          "output_type": "stream",
          "text": [
            "The Pearson Correlation Coefficient is 0.5651475625128861  with a P-value of P = 0.0\n"
          ],
          "name": "stdout"
        }
      ]
    },
    {
      "cell_type": "markdown",
      "metadata": {
        "id": "eI_pIHQhhyro",
        "colab_type": "text"
      },
      "source": [
        "The pearson value of 0.5 indicates somewhat linear relation and we can see the values increase. Although full dependency of fire insurance on rooms is not right as it clearly depends on other features as wel."
      ]
    },
    {
      "cell_type": "markdown",
      "metadata": {
        "id": "pE2qkANyeBR8",
        "colab_type": "text"
      },
      "source": [
        "###### **Fire insurance vs floors**"
      ]
    },
    {
      "cell_type": "code",
      "metadata": {
        "id": "zdIDh15ud_pn",
        "colab_type": "code",
        "colab": {
          "base_uri": "https://localhost:8080/",
          "height": 283
        },
        "outputId": "76c047ee-1fad-49f9-8870-251d147560cf"
      },
      "source": [
        "plt.scatter(x = 'floor', y = 'fire (R$)_normalized', data = data)\n",
        "plt.xlim(0, 10)\n",
        "plt.ylim(0, 5)\n",
        "plt.xlabel('floors')\n",
        "plt.ylabel('fire insurance')\n",
        "plt.show()"
      ],
      "execution_count": null,
      "outputs": [
        {
          "output_type": "display_data",
          "data": {
            "image/png": "[encoded data removed]",
            "text/plain": [
              "<Figure size 432x288 with 1 Axes>"
            ]
          },
          "metadata": {
            "tags": [],
            "needs_background": "light"
          }
        }
      ]
    },
    {
      "cell_type": "code",
      "metadata": {
        "id": "GpYsBf0Ehclq",
        "colab_type": "code",
        "colab": {
          "base_uri": "https://localhost:8080/",
          "height": 34
        },
        "outputId": "05d761ef-0b75-4dd5-aec8-7b378d6f5a47"
      },
      "source": [
        "pearson_coef, p_value = stats.pearsonr(data['floor'], data['fire insurance (R$)'])\n",
        "print(\"The Pearson Correlation Coefficient is\", pearson_coef, \" with a P-value of P =\", p_value)  "
      ],
      "execution_count": null,
      "outputs": [
        {
          "output_type": "stream",
          "text": [
            "The Pearson Correlation Coefficient is 0.1378087138420574  with a P-value of P = 1.728462417647204e-46\n"
          ],
          "name": "stdout"
        }
      ]
    },
    {
      "cell_type": "markdown",
      "metadata": {
        "id": "DaGUlSZKeL1g",
        "colab_type": "text"
      },
      "source": [
        "###### **Fire insurance vs parking lot**\n"
      ]
    },
    {
      "cell_type": "code",
      "metadata": {
        "id": "-BhF3DBheIMV",
        "colab_type": "code",
        "colab": {
          "base_uri": "https://localhost:8080/",
          "height": 283
        },
        "outputId": "8fedeabd-6919-46c6-a7b9-252e86c58a00"
      },
      "source": [
        "plt.scatter(x = 'parking spaces', y = 'fire (R$)_normalized', data = data)\n",
        "plt.xlim(0, 10)\n",
        "plt.ylim(0, 5)\n",
        "plt.xlabel('parking spaces')\n",
        "plt.ylabel('fire insurance')\n",
        "plt.show()"
      ],
      "execution_count": null,
      "outputs": [
        {
          "output_type": "display_data",
          "data": {
            "image/png": "[encoded data removed]",
            "text/plain": [
              "<Figure size 432x288 with 1 Axes>"
            ]
          },
          "metadata": {
            "tags": [],
            "needs_background": "light"
          }
        }
      ]
    },
    {
      "cell_type": "code",
      "metadata": {
        "id": "yzOkm_xRhg-Q",
        "colab_type": "code",
        "colab": {
          "base_uri": "https://localhost:8080/",
          "height": 34
        },
        "outputId": "f36702fb-7ce6-4ce4-e57b-e557f1528701"
      },
      "source": [
        "pearson_coef, p_value = stats.pearsonr(data['parking spaces'], data['fire insurance (R$)'])\n",
        "print(\"The Pearson Correlation Coefficient is\", pearson_coef, \" with a P-value of P =\", p_value)  "
      ],
      "execution_count": null,
      "outputs": [
        {
          "output_type": "stream",
          "text": [
            "The Pearson Correlation Coefficient is 0.5973475311578843  with a P-value of P = 0.0\n"
          ],
          "name": "stdout"
        }
      ]
    },
    {
      "cell_type": "markdown",
      "metadata": {
        "id": "DmzEichCeYX2",
        "colab_type": "text"
      },
      "source": [
        "> **Conclusions:** \n",
        "<p> for the various features that we plotted against each other we dont seem to find linear dependence on one particular feature. The histogram like graphs indicate that value for a particular (say floor) changes and this change is dependent on other features. Overall we can say that there is not in particular linear dependence among calculated features."
      ]
    },
    {
      "cell_type": "markdown",
      "metadata": {
        "id": "tA1BMOmNgdXm",
        "colab_type": "text"
      },
      "source": [
        "### **Linear Regression**"
      ]
    },
    {
      "cell_type": "markdown",
      "metadata": {
        "id": "q-jENVdsjR68",
        "colab_type": "text"
      },
      "source": [
        "###### **One hot encoding animals and furniture**"
      ]
    },
    {
      "cell_type": "code",
      "metadata": {
        "id": "mApADnqYeWyb",
        "colab_type": "code",
        "colab": {
          "base_uri": "https://localhost:8080/",
          "height": 119
        },
        "outputId": "349ef7d9-87c7-4aa9-a551-af26446df991"
      },
      "source": [
        "print(data['animal'].value_counts().to_frame())\n",
        "print(data['furniture'].value_counts().to_frame())"
      ],
      "execution_count": null,
      "outputs": [
        {
          "output_type": "stream",
          "text": [
            "           animal\n",
            "acept        8316\n",
            "not acept    2376\n",
            "               furniture\n",
            "not furnished       8086\n",
            "furnished           2606\n"
          ],
          "name": "stdout"
        }
      ]
    },
    {
      "cell_type": "code",
      "metadata": {
        "id": "xiXJnxisjcdS",
        "colab_type": "code",
        "colab": {
          "base_uri": "https://localhost:8080/",
          "height": 258
        },
        "outputId": "76b43a7c-226b-41bf-e2ee-0125702b6a76"
      },
      "source": [
        "from sklearn.preprocessing import LabelEncoder \n",
        "  \n",
        "le = LabelEncoder() \n",
        "data['city']= le.fit_transform(data['city'])   \n",
        "data['animal']= le.fit_transform(data['animal']) \n",
        "data['furniture']= le.fit_transform(data['furniture']) \n",
        "data.head()"
      ],
      "execution_count": null,
      "outputs": [
        {
          "output_type": "execute_result",
          "data": {
            "text/html": [
              "<div>\n",
              "<style scoped>\n",
              "    .dataframe tbody tr th:only-of-type {\n",
              "        vertical-align: middle;\n",
              "    }\n",
              "\n",
              "    .dataframe tbody tr th {\n",
              "        vertical-align: top;\n",
              "    }\n",
              "\n",
              "    .dataframe thead th {\n",
              "        text-align: right;\n",
              "    }\n",
              "</style>\n",
              "<table border=\"1\" class=\"dataframe\">\n",
              "  <thead>\n",
              "    <tr style=\"text-align: right;\">\n",
              "      <th></th>\n",
              "      <th>city</th>\n",
              "      <th>area</th>\n",
              "      <th>rooms</th>\n",
              "      <th>bathroom</th>\n",
              "      <th>parking spaces</th>\n",
              "      <th>floor</th>\n",
              "      <th>animal</th>\n",
              "      <th>furniture</th>\n",
              "      <th>hoa (R$)</th>\n",
              "      <th>rent amount (R$)</th>\n",
              "      <th>property tax (R$)</th>\n",
              "      <th>fire insurance (R$)</th>\n",
              "      <th>total (R$)</th>\n",
              "      <th>area_normalized</th>\n",
              "      <th>hoa (R$)_normalized</th>\n",
              "      <th>floor_normalized</th>\n",
              "      <th>prop (R$)_normalized</th>\n",
              "      <th>fire (R$)_normalized</th>\n",
              "    </tr>\n",
              "  </thead>\n",
              "  <tbody>\n",
              "    <tr>\n",
              "      <th>0</th>\n",
              "      <td>4</td>\n",
              "      <td>70</td>\n",
              "      <td>2</td>\n",
              "      <td>1</td>\n",
              "      <td>1</td>\n",
              "      <td>7</td>\n",
              "      <td>0</td>\n",
              "      <td>0</td>\n",
              "      <td>2065</td>\n",
              "      <td>3300</td>\n",
              "      <td>211</td>\n",
              "      <td>42</td>\n",
              "      <td>5618</td>\n",
              "      <td>-0.147515</td>\n",
              "      <td>0.057142</td>\n",
              "      <td>0.101939</td>\n",
              "      <td>-0.050101</td>\n",
              "      <td>-0.236578</td>\n",
              "    </tr>\n",
              "    <tr>\n",
              "      <th>1</th>\n",
              "      <td>4</td>\n",
              "      <td>320</td>\n",
              "      <td>4</td>\n",
              "      <td>4</td>\n",
              "      <td>0</td>\n",
              "      <td>20</td>\n",
              "      <td>0</td>\n",
              "      <td>1</td>\n",
              "      <td>1200</td>\n",
              "      <td>4960</td>\n",
              "      <td>1750</td>\n",
              "      <td>63</td>\n",
              "      <td>7973</td>\n",
              "      <td>0.318020</td>\n",
              "      <td>0.001666</td>\n",
              "      <td>2.507142</td>\n",
              "      <td>0.445100</td>\n",
              "      <td>0.203046</td>\n",
              "    </tr>\n",
              "    <tr>\n",
              "      <th>2</th>\n",
              "      <td>2</td>\n",
              "      <td>80</td>\n",
              "      <td>1</td>\n",
              "      <td>1</td>\n",
              "      <td>1</td>\n",
              "      <td>6</td>\n",
              "      <td>0</td>\n",
              "      <td>1</td>\n",
              "      <td>1000</td>\n",
              "      <td>2800</td>\n",
              "      <td>0</td>\n",
              "      <td>41</td>\n",
              "      <td>3841</td>\n",
              "      <td>-0.128893</td>\n",
              "      <td>-0.011161</td>\n",
              "      <td>-0.083077</td>\n",
              "      <td>-0.117994</td>\n",
              "      <td>-0.257513</td>\n",
              "    </tr>\n",
              "    <tr>\n",
              "      <th>3</th>\n",
              "      <td>2</td>\n",
              "      <td>51</td>\n",
              "      <td>2</td>\n",
              "      <td>1</td>\n",
              "      <td>0</td>\n",
              "      <td>2</td>\n",
              "      <td>0</td>\n",
              "      <td>1</td>\n",
              "      <td>270</td>\n",
              "      <td>1112</td>\n",
              "      <td>22</td>\n",
              "      <td>17</td>\n",
              "      <td>1421</td>\n",
              "      <td>-0.182895</td>\n",
              "      <td>-0.057979</td>\n",
              "      <td>-0.823140</td>\n",
              "      <td>-0.110915</td>\n",
              "      <td>-0.759941</td>\n",
              "    </tr>\n",
              "    <tr>\n",
              "      <th>4</th>\n",
              "      <td>4</td>\n",
              "      <td>25</td>\n",
              "      <td>1</td>\n",
              "      <td>1</td>\n",
              "      <td>0</td>\n",
              "      <td>1</td>\n",
              "      <td>1</td>\n",
              "      <td>1</td>\n",
              "      <td>0</td>\n",
              "      <td>800</td>\n",
              "      <td>25</td>\n",
              "      <td>11</td>\n",
              "      <td>836</td>\n",
              "      <td>-0.231311</td>\n",
              "      <td>-0.075295</td>\n",
              "      <td>-1.008155</td>\n",
              "      <td>-0.109949</td>\n",
              "      <td>-0.885548</td>\n",
              "    </tr>\n",
              "  </tbody>\n",
              "</table>\n",
              "</div>"
            ],
            "text/plain": [
              "   city  area  ...  prop (R$)_normalized  fire (R$)_normalized\n",
              "0     4    70  ...             -0.050101             -0.236578\n",
              "1     4   320  ...              0.445100              0.203046\n",
              "2     2    80  ...             -0.117994             -0.257513\n",
              "3     2    51  ...             -0.110915             -0.759941\n",
              "4     4    25  ...             -0.109949             -0.885548\n",
              "\n",
              "[5 rows x 18 columns]"
            ]
          },
          "metadata": {
            "tags": []
          },
          "execution_count": 63
        }
      ]
    },
    {
      "cell_type": "markdown",
      "metadata": {
        "id": "Z1t9MaEYsNXQ",
        "colab_type": "text"
      },
      "source": [
        "Now that we have all the input values in numeric form, it is easier to do linear regression."
      ]
    },
    {
      "cell_type": "markdown",
      "metadata": {
        "id": "CnpAIrYrtETY",
        "colab_type": "text"
      },
      "source": [
        "**Lets first try to do linear regression of individual features with rent amount.**\n",
        "\n",
        "> **Rent amount vs area**"
      ]
    },
    {
      "cell_type": "code",
      "metadata": {
        "id": "ME_olZ3WkFWg",
        "colab_type": "code",
        "colab": {
          "base_uri": "https://localhost:8080/",
          "height": 51
        },
        "outputId": "97f8bd8b-4a2a-4a88-ce12-767f6e37a4ba"
      },
      "source": [
        "from sklearn.linear_model import LinearRegression\n",
        "lm = LinearRegression()\n",
        "\n",
        "train = data.loc[:9999]\n",
        "test = data.loc[10000:]\n",
        "X_train = train[['area']]\n",
        "Y_train = train['rent amount (R$)']\n",
        "lm.fit(X_train, Y_train)\n",
        "\n",
        "X_test = test[['area']]\n",
        "Y_test = test['rent amount (R$)']\n",
        "yhat = lm.predict(X_test)\n",
        "yhat[0:5]"
      ],
      "execution_count": null,
      "outputs": [
        {
          "output_type": "execute_result",
          "data": {
            "text/plain": [
              "array([3836.18156171, 3784.13688142, 3787.38967394, 3764.62012631,\n",
              "       3780.8840889 ])"
            ]
          },
          "metadata": {
            "tags": []
          },
          "execution_count": 64
        }
      ]
    },
    {
      "cell_type": "code",
      "metadata": {
        "id": "PbJhFPiGwCBJ",
        "colab_type": "code",
        "colab": {
          "base_uri": "https://localhost:8080/",
          "height": 68
        },
        "outputId": "cbd609ad-5375-4db2-de3f-733a9e8b0cb9"
      },
      "source": [
        "from sklearn.metrics import mean_squared_error\n",
        "mse = mean_squared_error(test['rent amount (R$)'], yhat)\n",
        "print('The mean square error of price and predicted value is: ', mse)\n",
        "\n",
        "print(\"Mean square error of train set is :\", mean_squared_error(train['rent amount (R$)'], lm.predict(X_train)))\n",
        "print('The R-square is: ', lm.score(X_train, Y_train))"
      ],
      "execution_count": null,
      "outputs": [
        {
          "output_type": "stream",
          "text": [
            "The mean square error of price and predicted value is:  11158446.311727587\n",
            "Mean square error of train set is : 11244311.247264069\n",
            "The R-square is:  0.031111055956133393\n"
          ],
          "name": "stdout"
        }
      ]
    },
    {
      "cell_type": "markdown",
      "metadata": {
        "id": "msRFi1zhwqC4",
        "colab_type": "text"
      },
      "source": [
        "We can say that ~ 31.11% of the variation of the rent amount is explained by this simple linear model on the basis of R^2 error.\n",
        "<br>We also se large value of error in both train and test set. Lets analyse visually."
      ]
    },
    {
      "cell_type": "code",
      "metadata": {
        "id": "BLhFfAF5th47",
        "colab_type": "code",
        "colab": {
          "base_uri": "https://localhost:8080/",
          "height": 71
        },
        "outputId": "7badbae7-7095-40cb-af5a-5ba7ab7654fd"
      },
      "source": [
        "import seaborn as sns"
      ],
      "execution_count": null,
      "outputs": [
        {
          "output_type": "stream",
          "text": [
            "/usr/local/lib/python3.6/dist-packages/statsmodels/tools/_testing.py:19: FutureWarning: pandas.util.testing is deprecated. Use the functions in the public API at pandas.testing instead.\n",
            "  import pandas.util.testing as tm\n"
          ],
          "name": "stderr"
        }
      ]
    },
    {
      "cell_type": "code",
      "metadata": {
        "id": "joFxzDzovWDR",
        "colab_type": "code",
        "colab": {
          "base_uri": "https://localhost:8080/",
          "height": 296
        },
        "outputId": "62fc4fa9-f540-4415-d899-443993eb4e8e"
      },
      "source": [
        "sns.regplot(x=\"area\", y=\"rent amount (R$)\", data=test)"
      ],
      "execution_count": null,
      "outputs": [
        {
          "output_type": "execute_result",
          "data": {
            "text/plain": [
              "<matplotlib.axes._subplots.AxesSubplot at 0x7f8c787bb080>"
            ]
          },
          "metadata": {
            "tags": []
          },
          "execution_count": 67
        },
        {
          "output_type": "display_data",
          "data": {
            "image/png": "[encoded data removed]",
            "text/plain": [
              "<Figure size 432x288 with 1 Axes>"
            ]
          },
          "metadata": {
            "tags": [],
            "needs_background": "light"
          }
        }
      ]
    },
    {
      "cell_type": "markdown",
      "metadata": {
        "id": "vjhkl-GyxTnf",
        "colab_type": "text"
      },
      "source": [
        "> **Rent amount vs floor**"
      ]
    },
    {
      "cell_type": "code",
      "metadata": {
        "id": "22RV8TUTvjQf",
        "colab_type": "code",
        "colab": {
          "base_uri": "https://localhost:8080/",
          "height": 51
        },
        "outputId": "74ea87c9-dd22-447d-fbfc-19fe256f1bce"
      },
      "source": [
        "X_train = train[['floor']]\n",
        "Y_train = train['rent amount (R$)']\n",
        "lm.fit(X_train, Y_train)\n",
        "\n",
        "X_test = test[['floor']]\n",
        "Y_test = test['rent amount (R$)']\n",
        "yhat = lm.predict(X_test)\n",
        "yhat[0:5]"
      ],
      "execution_count": null,
      "outputs": [
        {
          "output_type": "execute_result",
          "data": {
            "text/plain": [
              "array([3650.96503412, 3354.64413346, 4144.8332019 , 3354.64413346,\n",
              "       4342.38046901])"
            ]
          },
          "metadata": {
            "tags": []
          },
          "execution_count": 68
        }
      ]
    },
    {
      "cell_type": "code",
      "metadata": {
        "id": "yxCOdAFDxY1M",
        "colab_type": "code",
        "colab": {
          "base_uri": "https://localhost:8080/",
          "height": 68
        },
        "outputId": "d6b03e1d-5b2d-4bc0-a880-0577e24874b5"
      },
      "source": [
        "mse = mean_squared_error(test['rent amount (R$)'], yhat)\n",
        "print('The mean square error of price and predicted value is: ', mse)\n",
        "\n",
        "print(\"Mean square error of train set is :\", mean_squared_error(train['rent amount (R$)'], lm.predict(X_train)))\n",
        "print('The R-square is: ', lm.score(X_train, Y_train))"
      ],
      "execution_count": null,
      "outputs": [
        {
          "output_type": "stream",
          "text": [
            "The mean square error of price and predicted value is:  11334738.551135434\n",
            "Mean square error of train set is : 11313502.957650503\n",
            "The R-square is:  0.025149011528626586\n"
          ],
          "name": "stdout"
        }
      ]
    },
    {
      "cell_type": "code",
      "metadata": {
        "id": "o9V8A3L0xg_m",
        "colab_type": "code",
        "colab": {
          "base_uri": "https://localhost:8080/",
          "height": 296
        },
        "outputId": "c81a2fc4-1002-45ea-c7e5-ac906c922743"
      },
      "source": [
        "sns.regplot(x=\"floor\", y=\"rent amount (R$)\", data=test)"
      ],
      "execution_count": null,
      "outputs": [
        {
          "output_type": "execute_result",
          "data": {
            "text/plain": [
              "<matplotlib.axes._subplots.AxesSubplot at 0x7f8c7b17c940>"
            ]
          },
          "metadata": {
            "tags": []
          },
          "execution_count": 70
        },
        {
          "output_type": "display_data",
          "data": {
            "image/png": "[encoded data removed]",
            "text/plain": [
              "<Figure size 432x288 with 1 Axes>"
            ]
          },
          "metadata": {
            "tags": [],
            "needs_background": "light"
          }
        }
      ]
    },
    {
      "cell_type": "markdown",
      "metadata": {
        "id": "8urDPM-lyTFX",
        "colab_type": "text"
      },
      "source": [
        "> **Rent amount vs rooms**"
      ]
    },
    {
      "cell_type": "code",
      "metadata": {
        "id": "-CcIMoARyG8z",
        "colab_type": "code",
        "colab": {
          "base_uri": "https://localhost:8080/",
          "height": 51
        },
        "outputId": "1daac32d-2af5-4cc2-de9a-cf8688d23f87"
      },
      "source": [
        "X_train = train[['rooms']]\n",
        "Y_train = train['rent amount (R$)']\n",
        "lm.fit(X_train, Y_train)\n",
        "\n",
        "X_test = test[['rooms']]\n",
        "Y_test = test['rent amount (R$)']\n",
        "yhat = lm.predict(X_test)\n",
        "yhat[0:5]"
      ],
      "execution_count": null,
      "outputs": [
        {
          "output_type": "execute_result",
          "data": {
            "text/plain": [
              "array([3093.9956322 , 3093.9956322 , 3093.9956322 , 1521.00712875,\n",
              "       1521.00712875])"
            ]
          },
          "metadata": {
            "tags": []
          },
          "execution_count": 71
        }
      ]
    },
    {
      "cell_type": "code",
      "metadata": {
        "id": "ml1a0sPiycVi",
        "colab_type": "code",
        "colab": {
          "base_uri": "https://localhost:8080/",
          "height": 68
        },
        "outputId": "891772e2-b726-4d4d-f8ef-fe9a2e7ee5c5"
      },
      "source": [
        "mse = mean_squared_error(test['rent amount (R$)'], yhat)\n",
        "print('The mean square error of price and predicted value is: ', mse)\n",
        "\n",
        "print(\"Mean square error of train set is :\", mean_squared_error(train['rent amount (R$)'], lm.predict(X_train)))\n",
        "print('The R-square is: ', lm.score(X_train, Y_train))"
      ],
      "execution_count": null,
      "outputs": [
        {
          "output_type": "stream",
          "text": [
            "The mean square error of price and predicted value is:  8325040.848688591\n",
            "Mean square error of train set is : 8199386.794914021\n",
            "The R-square is:  0.2934831632782797\n"
          ],
          "name": "stdout"
        }
      ]
    },
    {
      "cell_type": "code",
      "metadata": {
        "id": "TxhRwfgEyepd",
        "colab_type": "code",
        "colab": {
          "base_uri": "https://localhost:8080/",
          "height": 296
        },
        "outputId": "12c6572c-ce09-4bfe-9ae3-e88e9ba07d42"
      },
      "source": [
        "sns.regplot(x=\"rooms\", y=\"rent amount (R$)\", data=test)"
      ],
      "execution_count": null,
      "outputs": [
        {
          "output_type": "execute_result",
          "data": {
            "text/plain": [
              "<matplotlib.axes._subplots.AxesSubplot at 0x7f8c788ffcc0>"
            ]
          },
          "metadata": {
            "tags": []
          },
          "execution_count": 73
        },
        {
          "output_type": "display_data",
          "data": {
            "image/png": "[encoded data removed]",
            "text/plain": [
              "<Figure size 432x288 with 1 Axes>"
            ]
          },
          "metadata": {
            "tags": [],
            "needs_background": "light"
          }
        }
      ]
    },
    {
      "cell_type": "markdown",
      "metadata": {
        "id": "oETKCT5DyquZ",
        "colab_type": "text"
      },
      "source": [
        "**Rent amount vs bathroom**"
      ]
    },
    {
      "cell_type": "code",
      "metadata": {
        "id": "DoL-OzcTzDRa",
        "colab_type": "code",
        "colab": {
          "base_uri": "https://localhost:8080/",
          "height": 51
        },
        "outputId": "3adc3c1f-a193-442e-9c74-608a989da56b"
      },
      "source": [
        "X_train = train[['bathroom']]\n",
        "Y_train = train['rent amount (R$)']\n",
        "lm.fit(X_train, Y_train)\n",
        "\n",
        "X_test = test[['bathroom']]\n",
        "Y_test = test['rent amount (R$)']\n",
        "yhat = lm.predict(X_test)\n",
        "yhat[0:5]"
      ],
      "execution_count": null,
      "outputs": [
        {
          "output_type": "execute_result",
          "data": {
            "text/plain": [
              "array([1892.48207959, 1892.48207959, 3509.14655275, 1892.48207959,\n",
              "       3509.14655275])"
            ]
          },
          "metadata": {
            "tags": []
          },
          "execution_count": 74
        }
      ]
    },
    {
      "cell_type": "code",
      "metadata": {
        "id": "z_S_ejbVzJEV",
        "colab_type": "code",
        "colab": {
          "base_uri": "https://localhost:8080/",
          "height": 68
        },
        "outputId": "438045be-c42d-499b-bb78-1b5fc3c8a303"
      },
      "source": [
        "mse = mean_squared_error(test['rent amount (R$)'], yhat)\n",
        "print('The mean square error of price and predicted value is: ', mse)\n",
        "\n",
        "print(\"Mean square error of train set is :\", mean_squared_error(train['rent amount (R$)'], lm.predict(X_train)))\n",
        "print('The R-square is: ', lm.score(X_train, Y_train))"
      ],
      "execution_count": null,
      "outputs": [
        {
          "output_type": "stream",
          "text": [
            "The mean square error of price and predicted value is:  6426511.883081884\n",
            "Mean square error of train set is : 6425397.321075841\n",
            "The R-square is:  0.4463425737175116\n"
          ],
          "name": "stdout"
        }
      ]
    },
    {
      "cell_type": "code",
      "metadata": {
        "id": "TcYSXbJbyiGV",
        "colab_type": "code",
        "colab": {
          "base_uri": "https://localhost:8080/",
          "height": 296
        },
        "outputId": "2c3342a0-ba29-48f8-ee3b-93b145897e18"
      },
      "source": [
        "sns.regplot(x=\"bathroom\", y=\"rent amount (R$)\", data=test)"
      ],
      "execution_count": null,
      "outputs": [
        {
          "output_type": "execute_result",
          "data": {
            "text/plain": [
              "<matplotlib.axes._subplots.AxesSubplot at 0x7f8c74945048>"
            ]
          },
          "metadata": {
            "tags": []
          },
          "execution_count": 76
        },
        {
          "output_type": "display_data",
          "data": {
            "image/png": "[encoded data removed]",
            "text/plain": [
              "<Figure size 432x288 with 1 Axes>"
            ]
          },
          "metadata": {
            "tags": [],
            "needs_background": "light"
          }
        }
      ]
    },
    {
      "cell_type": "markdown",
      "metadata": {
        "id": "LvPc6OJhza_z",
        "colab_type": "text"
      },
      "source": [
        "**Rent amount vs parking space**"
      ]
    },
    {
      "cell_type": "code",
      "metadata": {
        "id": "qN5WlZMPzeQ0",
        "colab_type": "code",
        "colab": {
          "base_uri": "https://localhost:8080/",
          "height": 51
        },
        "outputId": "8fa3db14-49fd-41ba-f291-5ce3fd71ae9c"
      },
      "source": [
        "X_train = train[['parking spaces']]\n",
        "Y_train = train['rent amount (R$)']\n",
        "lm.fit(X_train, Y_train)\n",
        "\n",
        "X_test = test[['parking spaces']]\n",
        "Y_test = test['rent amount (R$)']\n",
        "yhat = lm.predict(X_test)\n",
        "yhat[0:5]"
      ],
      "execution_count": null,
      "outputs": [
        {
          "output_type": "execute_result",
          "data": {
            "text/plain": [
              "array([3137.23121006, 3137.23121006, 3137.23121006, 1890.54886791,\n",
              "       3137.23121006])"
            ]
          },
          "metadata": {
            "tags": []
          },
          "execution_count": 77
        }
      ]
    },
    {
      "cell_type": "code",
      "metadata": {
        "id": "1FcQGJ5rzLlM",
        "colab_type": "code",
        "colab": {
          "base_uri": "https://localhost:8080/",
          "height": 68
        },
        "outputId": "cd1466ad-b566-4074-dbc6-36b0e83b1b02"
      },
      "source": [
        "mse = mean_squared_error(test['rent amount (R$)'], yhat)\n",
        "print('The mean square error of price and predicted value is: ', mse)\n",
        "\n",
        "print(\"Mean square error of train set is :\", mean_squared_error(train['rent amount (R$)'], lm.predict(X_train)))\n",
        "print('The R-square is: ', lm.score(X_train, Y_train))"
      ],
      "execution_count": null,
      "outputs": [
        {
          "output_type": "stream",
          "text": [
            "The mean square error of price and predicted value is:  8123291.167386314\n",
            "Mean square error of train set is : 7704140.943102284\n",
            "The R-square is:  0.33615702918720614\n"
          ],
          "name": "stdout"
        }
      ]
    },
    {
      "cell_type": "code",
      "metadata": {
        "id": "QwnsDwCLzkxJ",
        "colab_type": "code",
        "colab": {
          "base_uri": "https://localhost:8080/",
          "height": 296
        },
        "outputId": "8318d24f-4e77-4521-8d65-6f4616f12192"
      },
      "source": [
        "sns.regplot(x=\"parking spaces\", y=\"rent amount (R$)\", data=test)"
      ],
      "execution_count": null,
      "outputs": [
        {
          "output_type": "execute_result",
          "data": {
            "text/plain": [
              "<matplotlib.axes._subplots.AxesSubplot at 0x7f8c78854f60>"
            ]
          },
          "metadata": {
            "tags": []
          },
          "execution_count": 79
        },
        {
          "output_type": "display_data",
          "data": {
            "image/png": "[encoded data removed]",
            "text/plain": [
              "<Figure size 432x288 with 1 Axes>"
            ]
          },
          "metadata": {
            "tags": [],
            "needs_background": "light"
          }
        }
      ]
    },
    {
      "cell_type": "markdown",
      "metadata": {
        "id": "uY8hQcHD0IT-",
        "colab_type": "text"
      },
      "source": [
        "Predicting such variables and fitting linear regression model to them is not an appropriate idea as they individually dont vary linearly with them."
      ]
    },
    {
      "cell_type": "markdown",
      "metadata": {
        "id": "Aj4S_LJB0UMr",
        "colab_type": "text"
      },
      "source": [
        "**Lets try to fit multivariate regression**"
      ]
    },
    {
      "cell_type": "code",
      "metadata": {
        "id": "_HqTuZMEzqiE",
        "colab_type": "code",
        "colab": {
          "base_uri": "https://localhost:8080/",
          "height": 51
        },
        "outputId": "0c173a76-2116-46e9-e4e4-3ee1698ac2ae"
      },
      "source": [
        "Z = train[['area',\t'rooms',\t'bathroom',\t'parking spaces',\t'floor',\t'animal',\t'furniture', 'area_normalized',\t'hoa (R$)_normalized',\t'floor_normalized',\t'prop (R$)_normalized',\t'fire (R$)_normalized'\n",
        "]]\n",
        "\n",
        "lm.fit(Z, Y_train)\n",
        "yhat = lm.predict(test[['area',\t'rooms',\t'bathroom',\t'parking spaces',\t'floor',\t'animal',\t'furniture', 'area_normalized',\t'hoa (R$)_normalized',\t'floor_normalized',\t'prop (R$)_normalized',\t'fire (R$)_normalized'\n",
        "]])\n",
        "yhat[0:5]"
      ],
      "execution_count": 99,
      "outputs": [
        {
          "output_type": "execute_result",
          "data": {
            "text/plain": [
              "array([2850.20280209, 1046.22981399, 2119.65767687, 1929.85058517,\n",
              "       3164.02729584])"
            ]
          },
          "metadata": {
            "tags": []
          },
          "execution_count": 99
        }
      ]
    },
    {
      "cell_type": "code",
      "metadata": {
        "id": "L9PHMI-61Bon",
        "colab_type": "code",
        "colab": {
          "base_uri": "https://localhost:8080/",
          "height": 68
        },
        "outputId": "fe62ec77-2d08-46d1-f6c1-06e57e368f59"
      },
      "source": [
        "mse = mean_squared_error(test['rent amount (R$)'], yhat)\n",
        "print('The mean square error of price and predicted value is: ', mse)\n",
        "\n",
        "print(\"Mean square error of train set is :\", mean_squared_error(train['rent amount (R$)'], lm.predict(Z)))\n",
        "print('The R-square is: ', lm.score(Z, Y_train))"
      ],
      "execution_count": 100,
      "outputs": [
        {
          "output_type": "stream",
          "text": [
            "The mean square error of price and predicted value is:  264365.37444211025\n",
            "Mean square error of train set is : 271524.0684036911\n",
            "The R-square is:  0.9766035764989912\n"
          ],
          "name": "stdout"
        }
      ]
    },
    {
      "cell_type": "code",
      "metadata": {
        "id": "JQq4kUM82JbN",
        "colab_type": "code",
        "colab": {}
      },
      "source": [
        "def DistributionPlot(RedFunction, BlueFunction, RedName, BlueName, Title):\n",
        "    width = 12\n",
        "    height = 10\n",
        "    plt.figure(figsize=(width, height))\n",
        "\n",
        "    ax1 = sns.distplot(RedFunction, hist=False, color=\"r\", label=RedName)\n",
        "    ax2 = sns.distplot(BlueFunction, hist=False, color=\"b\", label=BlueName, ax=ax1)\n",
        "\n",
        "    plt.title(Title)\n",
        "    plt.xlabel('Price (in dollars)')\n",
        "    plt.ylabel('Proportion of Cars')\n",
        "\n",
        "    plt.show()\n",
        "    plt.close()"
      ],
      "execution_count": 101,
      "outputs": []
    },
    {
      "cell_type": "code",
      "metadata": {
        "id": "I88RKgRF1fYE",
        "colab_type": "code",
        "colab": {
          "base_uri": "https://localhost:8080/",
          "height": 621
        },
        "outputId": "6d77f89c-461f-408d-f938-c3e540f8832b"
      },
      "source": [
        "Title = 'Distribution  Plot of  Predicted Value Using Training Data vs Training Data Distribution'\n",
        "DistributionPlot(Y_train, lm.predict(Z), \"Actual Values (Train)\", \"Predicted Values (Train)\", Title)"
      ],
      "execution_count": 102,
      "outputs": [
        {
          "output_type": "display_data",
          "data": {
            "image/png": "[encoded data removed]",
            "text/plain": [
              "<Figure size 864x720 with 1 Axes>"
            ]
          },
          "metadata": {
            "tags": [],
            "needs_background": "light"
          }
        }
      ]
    },
    {
      "cell_type": "code",
      "metadata": {
        "id": "lnIj3ycj2Edk",
        "colab_type": "code",
        "colab": {
          "base_uri": "https://localhost:8080/",
          "height": 621
        },
        "outputId": "498d297f-280c-4da9-e27c-31e2b8e85ee7"
      },
      "source": [
        "Title = 'Distribution  Plot of  Predicted Value Using Test Data vs Test Data Distribution'\n",
        "DistributionPlot(Y_test, yhat, \"Actual Values (Test)\", \"Predicted Values (Test)\", Title)"
      ],
      "execution_count": 103,
      "outputs": [
        {
          "output_type": "display_data",
          "data": {
            "image/png": "[encoded data removed]",
            "text/plain": [
              "<Figure size 864x720 with 1 Axes>"
            ]
          },
          "metadata": {
            "tags": [],
            "needs_background": "light"
          }
        }
      ]
    },
    {
      "cell_type": "markdown",
      "metadata": {
        "id": "edywj7lp3Es6",
        "colab_type": "text"
      },
      "source": [
        "We can see that our model doesn't fit quite well. Although it is quite better than individual linear regression models, it still has a lot of error and an R^2 score of only ~ 0.5 . \n",
        "\n",
        ">**To improve this, we can try methods like Ridge Regression, or try fitting polynomial model to our data.**"
      ]
    },
    {
      "cell_type": "markdown",
      "metadata": {
        "id": "jqXa4rJU4mlF",
        "colab_type": "text"
      },
      "source": [
        "**Ridge Regression**"
      ]
    },
    {
      "cell_type": "code",
      "metadata": {
        "id": "vOzAj9X244Om",
        "colab_type": "code",
        "colab": {}
      },
      "source": [
        "from sklearn.linear_model import Ridge"
      ],
      "execution_count": 104,
      "outputs": []
    },
    {
      "cell_type": "code",
      "metadata": {
        "id": "2hNdDCGq44qx",
        "colab_type": "code",
        "colab": {}
      },
      "source": [
        "RigeModel=Ridge(alpha=0.1)"
      ],
      "execution_count": 105,
      "outputs": []
    },
    {
      "cell_type": "code",
      "metadata": {
        "id": "FbjuuIWt45_Q",
        "colab_type": "code",
        "colab": {
          "base_uri": "https://localhost:8080/",
          "height": 51
        },
        "outputId": "331e2276-fd2b-4969-a9c9-07e2d2fc1d2c"
      },
      "source": [
        "RigeModel.fit(Z, Y_train)"
      ],
      "execution_count": 106,
      "outputs": [
        {
          "output_type": "execute_result",
          "data": {
            "text/plain": [
              "Ridge(alpha=0.1, copy_X=True, fit_intercept=True, max_iter=None,\n",
              "      normalize=False, random_state=None, solver='auto', tol=0.001)"
            ]
          },
          "metadata": {
            "tags": []
          },
          "execution_count": 106
        }
      ]
    },
    {
      "cell_type": "code",
      "metadata": {
        "id": "tl2FqNgL5DSp",
        "colab_type": "code",
        "colab": {
          "base_uri": "https://localhost:8080/",
          "height": 34
        },
        "outputId": "ea558eef-1b22-4c0b-9002-874e92352905"
      },
      "source": [
        "yhat = RigeModel.predict(test[['area',\t'rooms',\t'bathroom',\t'parking spaces',\t'floor',\t'animal',\t'furniture', 'area_normalized',\t'hoa (R$)_normalized',\t'floor_normalized',\t'prop (R$)_normalized',\t'fire (R$)_normalized'\n",
        "]])\n",
        "yhat[0:5]\n",
        "print('The R-square is: ', RigeModel.score(Z, Y_train))"
      ],
      "execution_count": 109,
      "outputs": [
        {
          "output_type": "stream",
          "text": [
            "The R-square is:  0.97654562442147\n"
          ],
          "name": "stdout"
        }
      ]
    },
    {
      "cell_type": "code",
      "metadata": {
        "id": "2bFxg_aq5Hv1",
        "colab_type": "code",
        "colab": {}
      },
      "source": [
        "Rsqu_test = []\n",
        "Rsqu_train = []\n",
        "dummy1 = []\n",
        "ALFA = 10 * np.array(range(0,1000))\n",
        "for alfa in ALFA:\n",
        "    RigeModel = Ridge(alpha=alfa) \n",
        "    RigeModel.fit(Z, Y_train)\n",
        "    Rsqu_test.append(RigeModel.score(test[['area',\t'rooms',\t'bathroom',\t'parking spaces',\t'floor',\t'animal',\t'furniture', 'area_normalized',\t'hoa (R$)_normalized',\t'floor_normalized',\t'prop (R$)_normalized',\t'fire (R$)_normalized'\n",
        "]], Y_test))\n",
        "    Rsqu_train.append(RigeModel.score(Z, Y_train))"
      ],
      "execution_count": 114,
      "outputs": []
    },
    {
      "cell_type": "code",
      "metadata": {
        "id": "x-VOp1d-5bHa",
        "colab_type": "code",
        "colab": {
          "base_uri": "https://localhost:8080/",
          "height": 623
        },
        "outputId": "d0957525-ba2e-488d-e181-59f03734d841"
      },
      "source": [
        "width = 12\n",
        "height = 10\n",
        "plt.figure(figsize=(width, height))\n",
        "\n",
        "plt.plot(ALFA,Rsqu_test, label='validation data  ')\n",
        "plt.plot(ALFA,Rsqu_train, 'r', label='training Data ')\n",
        "plt.xlabel('alpha')\n",
        "plt.ylabel('R^2')\n",
        "plt.legend()"
      ],
      "execution_count": 115,
      "outputs": [
        {
          "output_type": "execute_result",
          "data": {
            "text/plain": [
              "<matplotlib.legend.Legend at 0x7f8c742a9400>"
            ]
          },
          "metadata": {
            "tags": []
          },
          "execution_count": 115
        },
        {
          "output_type": "display_data",
          "data": {
            "image/png": "[encoded data removed]",
            "text/plain": [
              "<Figure size 864x720 with 1 Axes>"
            ]
          },
          "metadata": {
            "tags": [],
            "needs_background": "light"
          }
        }
      ]
    },
    {
      "cell_type": "markdown",
      "metadata": {
        "id": "IODwdWfR55Bv",
        "colab_type": "text"
      },
      "source": [
        "The blue line represents the R^2 of the test data, and the red line represents the R^2 of the training data. The x-axis represents the different values of Alfa .\n",
        "<br>The red line in the above figure represents the  R^2 of the test data, as Alpha increases the R^2 decreases; therefore as Alfa increases the model performs worse on the test data.  The blue line represents the R^2 on the validation data, as the value for Alfa increases the R^2 decreases.   "
      ]
    },
    {
      "cell_type": "code",
      "metadata": {
        "id": "2aZzttA450tC",
        "colab_type": "code",
        "colab": {
          "base_uri": "https://localhost:8080/",
          "height": 621
        },
        "outputId": "80330a46-61cc-4031-f2a1-a7986a09bcb5"
      },
      "source": [
        "Title = 'Distribution  Plot of  Predicted Value Using Training Data vs Training Data Distribution'\n",
        "DistributionPlot(Y_train, RigeModel.predict(Z), \"Actual Values (Train)\", \"Predicted Values (Train)\", Title)"
      ],
      "execution_count": 112,
      "outputs": [
        {
          "output_type": "display_data",
          "data": {
            "image/png": "[encoded data removed]",
            "text/plain": [
              "<Figure size 864x720 with 1 Axes>"
            ]
          },
          "metadata": {
            "tags": [],
            "needs_background": "light"
          }
        }
      ]
    },
    {
      "cell_type": "code",
      "metadata": {
        "id": "oOfn41fz6PTz",
        "colab_type": "code",
        "colab": {
          "base_uri": "https://localhost:8080/",
          "height": 621
        },
        "outputId": "cee3b52d-e57d-463c-c043-1276a8342831"
      },
      "source": [
        "Title = 'Distribution  Plot of  Predicted Value Using Test Data vs Test Data Distribution'\n",
        "DistributionPlot(Y_test, yhat, \"Actual Values (Test)\", \"Predicted Values (Test)\", Title)"
      ],
      "execution_count": 113,
      "outputs": [
        {
          "output_type": "display_data",
          "data": {
            "image/png": "[encoded data removed]",
            "text/plain": [
              "<Figure size 864x720 with 1 Axes>"
            ]
          },
          "metadata": {
            "tags": [],
            "needs_background": "light"
          }
        }
      ]
    },
    {
      "cell_type": "markdown",
      "metadata": {
        "id": "NcHo7YY26r32",
        "colab_type": "text"
      },
      "source": [
        "Therefore, we see that although not much, but there is some change in distribution curve in the train data and is much closer to actual data. Using the model, we can find the appropriate value of alpha which is close to zero only. So our model uses 0.1 and still there is not much change, for more accuracy we ca ntry to fit polynomial model."
      ]
    },
    {
      "cell_type": "code",
      "metadata": {
        "id": "6tc6tcOzRQv3",
        "colab_type": "code",
        "colab": {}
      },
      "source": [
        ""
      ],
      "execution_count": null,
      "outputs": []
    }
  ]
}